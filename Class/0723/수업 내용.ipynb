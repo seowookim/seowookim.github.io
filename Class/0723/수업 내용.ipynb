{
 "cells": [
  {
   "cell_type": "code",
   "execution_count": 21,
   "id": "f144f0a9",
   "metadata": {},
   "outputs": [
    {
     "name": "stdout",
     "output_type": "stream",
     "text": [
      "Torch version:1.12.1\n",
      "Cuda version: 11.3\n",
      "transformers version: 4.28.0\n",
      "GPU 사용 가능여부: True\n"
     ]
    }
   ],
   "source": [
    "import torch\n",
    "import transformers\n",
    "\n",
    "print(\"Torch version:{}\".format(torch.__version__)) # Torch version:1.12.1\n",
    "print(\"Cuda version: {}\".format(torch.version.cuda)) # Cuda version: 11.3\n",
    "print(\"transformers version: {}\".format(transformers.__version__)) # transformers 4.28.0\n",
    "print(\"GPU 사용 가능여부: {}\".format(torch.cuda.is_available()))"
   ]
  },
  {
   "cell_type": "code",
   "execution_count": 2,
   "id": "ad02b24f",
   "metadata": {},
   "outputs": [
    {
     "data": {
      "application/vnd.jupyter.widget-view+json": {
       "model_id": "799e429191c44ec6931ddea06b46312a",
       "version_major": 2,
       "version_minor": 0
      },
      "text/plain": [
       "Downloading config.json:   0%|          | 0.00/1.00k [00:00<?, ?B/s]"
      ]
     },
     "metadata": {},
     "output_type": "display_data"
    },
    {
     "data": {
      "application/vnd.jupyter.widget-view+json": {
       "model_id": "2516f42a6ffe41a3b5ce58b6942e97b3",
       "version_major": 2,
       "version_minor": 0
      },
      "text/plain": [
       "Downloading tokenizer.json:   0%|          | 0.00/2.83M [00:00<?, ?B/s]"
      ]
     },
     "metadata": {},
     "output_type": "display_data"
    },
    {
     "name": "stderr",
     "output_type": "stream",
     "text": [
      "Special tokens have been added in the vocabulary, make sure the associated word embeddings are fine-tuned or trained.\n"
     ]
    },
    {
     "data": {
      "application/vnd.jupyter.widget-view+json": {
       "model_id": "9dcc219a139c4ad48f96f2f19c3cca70",
       "version_major": 2,
       "version_minor": 0
      },
      "text/plain": [
       "Downloading pytorch_model.bin:   0%|          | 0.00/513M [00:00<?, ?B/s]"
      ]
     },
     "metadata": {},
     "output_type": "display_data"
    }
   ],
   "source": [
    "import torch\n",
    "from transformers import AutoTokenizer, AutoModelForCausalLM\n",
    "import pandas as pd\n",
    "import numpy\n",
    "\n",
    "device = \"cuda\" if torch.cuda.is_available() else \"cpu\"\n",
    "model_name = \"skt/kogpt2-base-v2\"\n",
    "tokenizer = AutoTokenizer.from_pretrained(model_name)\n",
    "model = AutoModelForCausalLM.from_pretrained(model_name).to(device)"
   ]
  },
  {
   "cell_type": "code",
   "execution_count": 3,
   "id": "24cc8f2d",
   "metadata": {},
   "outputs": [
    {
     "data": {
      "text/plain": [
       "{'gpt2': 1024,\n",
       " 'gpt2-medium': 1024,\n",
       " 'gpt2-large': 1024,\n",
       " 'gpt2-xl': 1024,\n",
       " 'distilgpt2': 1024}"
      ]
     },
     "execution_count": 3,
     "metadata": {},
     "output_type": "execute_result"
    }
   ],
   "source": [
    "tokenizer.max_model_input_sizes"
   ]
  },
  {
   "cell_type": "code",
   "execution_count": 5,
   "id": "23a0dbb2",
   "metadata": {},
   "outputs": [
    {
     "name": "stdout",
     "output_type": "stream",
     "text": [
      "12000\n"
     ]
    },
    {
     "data": {
      "text/plain": [
       "[{'prompt': '불고기용 고기 한우에요?',\n",
       "  'completion': \"'저는 인공지능 챗봇이며, 직접적으로 식품에 관한 정보를 가지고 있지 않습니다. 하지만 일반적으로 불고기용 고기는 한우, 쇠고기, 돼지고기 등 다양한 종류의 고기를 사용합니다. 하지만 한우는 대표적인 고급 육류로 알려져 있기 때문에, 한우를 사용하는 경우도 많습니다. 알러지나 개별 건강 상태에 따라 다를 수 있으니 충분한 정보 수집 후에 선택해 주시기 바랍니다.\",\n",
       "  'tokens': 193},\n",
       " {'prompt': '쓰던 앱이 유료로 전환됐어',\n",
       "  'completion': \"'어떤 앱인지 모르기 때문에 정확한 답변을 드리기 어렵습니다. 하지만, 일반적으로 유료 전환된 앱은 기존 무료 앱에서 추가적인 기능이나 서비스를 제공하는 경우가 많습니다. 이 경우, 유료 전환 이전 가격이 매우 저렴하거나 무료인 경우가 많으므로, 앱을 계속 사용하려면 추가적인 비용을 지불해야 할 수 있습니다. 하지만, 유료 전환 이후에는 기존 사용자 또는 새로운 사용자 모두가 추가 기능과 높은 품질의 서비스를 이용할 수 있게 됩니다. 따라서, 앱 개발자는 유료 모델로 전환함으로써 앱의 수익을 증가시키고 더 나은 서비스를 제공할 수 있습니다.\",\n",
       "  'tokens': 288},\n",
       " {'prompt': '여친이랑 다툼',\n",
       "  'completion': \"'저는 인공지능이기 때문에 여친과의 다툼에 대해서는 조언을 드릴 수는 없습니다. 하지만 다투게 되면 상대방의 말을 경청하는 태도와 서로의 감정을 존중하는 것이 중요합니다. 논리적이고 차분한 대화를 통해 문제를 해결해보세요. 그리고 서로를 이해하고 서로의 의견을 수용하는 것이 중요합니다.\",\n",
       "  'tokens': 153}]"
      ]
     },
     "execution_count": 5,
     "metadata": {},
     "output_type": "execute_result"
    }
   ],
   "source": [
    "import json \n",
    "data_path_1_SFT = './data_kochatgpt/kochatgpt_1_SFT.jsonl' \n",
    "with open(data_path_1_SFT, \"r\", encoding='utf-8-sig') as json_file:\n",
    "    list_data_dict = json.load(json_file)\n",
    "\n",
    "print(len(list_data_dict))\n",
    "list_data_dict[:3]"
   ]
  },
  {
   "cell_type": "code",
   "execution_count": 6,
   "id": "5eef364e",
   "metadata": {},
   "outputs": [
    {
     "name": "stdout",
     "output_type": "stream",
     "text": [
      "10220\n"
     ]
    },
    {
     "data": {
      "text/plain": [
       "[{'prompt': '번디는 자신이 탐정잡지, 범죄소설 그리고 성범죄 관련 실제 범죄 다큐멘터리들을 탐독했다고 누구에게 말했나?',\n",
       "  'completion_0': 'Allow me to answer your question. I know that you are curious about me.',\n",
       "  'completion_1': '번디는 다양한 인터뷰자들과 뉴스홍보 담당자들과의 면담 때 밝혔다.',\n",
       "  'completion_2': '라이언에게 말했다.',\n",
       "  'ranking': [2, 1, 0]},\n",
       " {'prompt': '개포주공아파트는 몇 단지로 이루어져 있나?',\n",
       "  'completion_0': '개포주공아파트는 다섯 단지로 이루어져 있습니다.',\n",
       "  'completion_1': '이날 목송에서 구글상위노',\n",
       "  'completion_2': '개포주공아파트는 총 27개 단지로 이루어져 있습니다.',\n",
       "  'ranking': [2, 0, 1]},\n",
       " {'prompt': '김영삼의 후보 시절 지역표심을 겨냥한 발언을 문제삼은 후보는?',\n",
       "  'completion_0': 'The diameter of the Metallic domain is bigger than the Hyperonic domain.',\n",
       "  'completion_1': '이 질문은 조금 불분명합니다. 김영삼 대통령이 후보 시절에 어떤 발언을 했고, 누가 그 발언을 문제삼았는지에 따라 답이 다를 수 있습니다.\\\\n\\\\n만약 김영삼 대통령이 후보 시절에 지역표심을 겨냥한 발언을 했다는 가정하에, 그 발언을 문제삼은 후보가 누구였는지를 대답하자면, 그 답은 이화선 당시 민주당 대통령 후보가 될 것입니다. 1992년 총선 때, 김영삼 대선후보는 \"집값이 오른 노량진역 부근의 부동산 가격은 세월호 폭침 후 \\\\\\'강남 도시재생\\\\\\' 일환으로 상승했다\"는 발언을 했습니다. 하지만 이화선 후보는 이 발언을 \"전국적으로 경제적 발전이 이루어지지 않은 지방민의 마음을 멀리해지려는 무례한 발언\"이라고 비판하며 문제삼았습니다.\\\\n\\\\n하지만, 이 질문을 답변하는 데 있어서 보다 명확한 정보가 있으면 답변을 보완할 수 있습니다.',\n",
       "  'completion_2': '김영삼의 후보 시절에 지역표심을 겨냥한 발언은 대통령 당선 전까지 대한민국 정부가 추구하고 있는 민주주의 광범위하게 확립과 보수의 사상을 이어가는 데 있어 지역경제 발전과 공공서비스 신속 개선을 위해 합리적인 국가 정책에 따르는 방향성을 제시하고 있습니다.',\n",
       "  'ranking': [1, 2, 0]}]"
      ]
     },
     "execution_count": 6,
     "metadata": {},
     "output_type": "execute_result"
    }
   ],
   "source": [
    "data_path_2_RM = './data_kochatgpt/kochatgpt_2_RM.jsonl'\n",
    "with open(data_path_2_RM, \"r\", encoding='utf-8-sig') as json_file:\n",
    "    list_data_dict = json.load(json_file)\n",
    "\n",
    "print(len(list_data_dict))\n",
    "list_data_dict[:3]"
   ]
  },
  {
   "cell_type": "code",
   "execution_count": 7,
   "id": "3e1d127c",
   "metadata": {},
   "outputs": [
    {
     "name": "stdout",
     "output_type": "stream",
     "text": [
      "12000\n"
     ]
    },
    {
     "data": {
      "text/plain": [
       "[{'prompt': '번디는 자신이 탐정잡지, 범죄소설 그리고 성범죄 관련 실제 범죄 다큐멘터리들을 탐독했다고 누구에게 말했나?'},\n",
       " {'prompt': '개포주공아파트는 몇 단지로 이루어져 있나?'},\n",
       " {'prompt': '김영삼의 후보 시절 지역표심을 겨냥한 발언을 문제삼은 후보는?'}]"
      ]
     },
     "execution_count": 7,
     "metadata": {},
     "output_type": "execute_result"
    }
   ],
   "source": [
    "data_path_3_PPO = './data_kochatgpt/kochatgpt_3_PPO.jsonl'\n",
    "with open(data_path_3_PPO, \"r\", encoding='utf-8-sig') as json_file:\n",
    "    list_data_dict = json.load(json_file)\n",
    "\n",
    "print(len(list_data_dict))\n",
    "list_data_dict[:3]"
   ]
  },
  {
   "cell_type": "code",
   "execution_count": 8,
   "id": "feda1f03",
   "metadata": {},
   "outputs": [],
   "source": [
    "import os\n",
    "os.environ[\"CUDA_VISIBLE_DEVICES\"] = \"0\"\n",
    "import torch\n",
    "import torch.nn as nn\n",
    "from torch.utils.data import Dataset\n",
    "from torch.optim import Adam\n",
    "from datasets import load_dataset\n",
    "import transformers\n",
    "from transformers import AutoTokenizer, AutoModelForCausalLM, pipeline\n",
    "from transformers import Trainer, TrainingArguments\n",
    "from copy import deepcopy\n",
    "import copy\n",
    "import logging\n",
    "import json\n",
    "from dataclasses import dataclass"
   ]
  },
  {
   "cell_type": "code",
   "execution_count": 9,
   "id": "f331044c",
   "metadata": {},
   "outputs": [
    {
     "name": "stdout",
     "output_type": "stream",
     "text": [
      "GPT2TokenizerFast(name_or_path='skt/kogpt2-base-v2', vocab_size=51200, model_max_length=512, is_fast=True, padding_side='right', truncation_side='right', special_tokens={'bos_token': '</s>', 'eos_token': '</s>', 'unk_token': '</s>', 'pad_token': '</s>'}, clean_up_tokenization_spaces=True)\n"
     ]
    }
   ],
   "source": [
    "model = AutoModelForCausalLM.from_pretrained('skt/kogpt2-base-v2')\n",
    "tokenizer = AutoTokenizer.from_pretrained(\n",
    "    'skt/kogpt2-base-v2', bos_token='</s>', eos_token='</s>', unk_token='</s>', pad_token='</s>',\n",
    "    padding_side=\"right\",\n",
    "    model_max_length=512,\n",
    ")\n",
    "\n",
    "print(tokenizer)"
   ]
  },
  {
   "cell_type": "code",
   "execution_count": 10,
   "id": "4381b188",
   "metadata": {},
   "outputs": [],
   "source": [
    "from typing import Optional, Dict, Sequence\n",
    "\n",
    "class SFT_dataset(Dataset):\n",
    "\n",
    "    def __init__(self, data_path_1_SFT: str, tokenizer: transformers.PreTrainedTokenizer, verbose=False):\n",
    "        super(SFT_dataset, self).__init__()\n",
    "        logging.warning(\"Loading data...\")\n",
    "\n",
    "        pattern_instruction = 'prompt'  # instruction\n",
    "        pattern_output = 'completion'  # response\n",
    "\n",
    "        with open(data_path_1_SFT, \"r\", encoding='utf-8-sig') as json_file:\n",
    "            list_data_dict = json.load(json_file)\n",
    "\n",
    "        PROMPT_DICT = {\n",
    "            \"prompt_input\": (\n",
    "                \"### Instruction(명령어):\\n{prompt}\\n\\n### Response(응답):\"\n",
    "            )\n",
    "        }\n",
    "\n",
    "        prompt_input = PROMPT_DICT[\"prompt_input\"]\n",
    "\n",
    "        sources = []\n",
    "        for example in list_data_dict:\n",
    "            tmp = prompt_input.format_map(example)\n",
    "            sources.append(tmp)\n",
    "\n",
    "        targets = []\n",
    "        for example in list_data_dict:\n",
    "            targets.append(f\"{example[pattern_output]}{tokenizer.eos_token}\")\n",
    "        examples = [s + t for s, t in zip(sources, targets)]\n",
    "\n",
    "        sources_tokenized = self._tokenize_fn(sources, tokenizer)  # source\n",
    "        examples_tokenized = self._tokenize_fn(examples, tokenizer)  # source + target\n",
    "\n",
    "        input_ids = examples_tokenized[\"input_ids\"]\n",
    "        labels = copy.deepcopy(input_ids)\n",
    "        for label, source_len in zip(labels, sources_tokenized[\"input_ids_lens\"]):\n",
    "            label[:source_len] = -100\n",
    "\n",
    "        data_dict = dict(input_ids=input_ids, labels=labels)\n",
    "\n",
    "        self.input_ids = data_dict[\"input_ids\"]\n",
    "        self.labels = data_dict[\"labels\"]\n",
    "        logging.warning(\"Loading data done!!: %d\"%(len(self.labels)))\n",
    "\n",
    "\n",
    "    def _tokenize_fn(self, strings: Sequence[str], tokenizer: transformers.PreTrainedTokenizer) -> Dict:\n",
    "        tokenized_list = [\n",
    "            tokenizer(\n",
    "                text,\n",
    "                return_tensors=\"pt\",\n",
    "                padding=\"longest\",\n",
    "                max_length=tokenizer.model_max_length,\n",
    "                truncation=True,\n",
    "            )\n",
    "            for text in strings\n",
    "        ]\n",
    "        input_ids = labels = [tokenized.input_ids[0] for tokenized in tokenized_list]\n",
    "        input_ids_lens = labels_lens = [\n",
    "            tokenized.input_ids.ne(tokenizer.pad_token_id).sum().item() for tokenized in tokenized_list\n",
    "        ]\n",
    "        return dict(\n",
    "            input_ids=input_ids,\n",
    "            labels=labels,\n",
    "            input_ids_lens=input_ids_lens,\n",
    "            labels_lens=labels_lens,\n",
    "        )\n",
    "\n",
    "\n",
    "    def __len__(self):\n",
    "        return len(self.input_ids)\n",
    "\n",
    "\n",
    "    def __getitem__(self, i) -> Dict[str, torch.Tensor]:\n",
    "        return dict(input_ids=self.input_ids[i], labels=self.labels[i])"
   ]
  },
  {
   "cell_type": "code",
   "execution_count": 11,
   "id": "83355a36",
   "metadata": {},
   "outputs": [],
   "source": [
    "@dataclass\n",
    "class DataCollatorForSupervisedDataset(object): \n",
    "\n",
    "    tokenizer: transformers.PreTrainedTokenizer\n",
    "\n",
    "    def __call__(self, instances: Sequence[Dict]) -> Dict[str, torch.Tensor]:\n",
    "        input_ids, labels = tuple([instance[key] for instance in instances] for key in (\"input_ids\", \"labels\"))\n",
    "        input_ids = torch.nn.utils.rnn.pad_sequence(\n",
    "            input_ids, batch_first=True, padding_value=self.tokenizer.pad_token_id\n",
    "        )\n",
    "        labels = torch.nn.utils.rnn.pad_sequence(labels, batch_first=True, padding_value= -100)\n",
    "        return dict(\n",
    "            input_ids=input_ids,\n",
    "            labels=labels,\n",
    "            attention_mask=input_ids.ne(self.tokenizer.pad_token_id),\n",
    "        )"
   ]
  },
  {
   "cell_type": "code",
   "execution_count": 13,
   "id": "8ee51bdb",
   "metadata": {},
   "outputs": [
    {
     "name": "stderr",
     "output_type": "stream",
     "text": [
      "WARNING:root:Loading data...\n",
      "WARNING:root:Loading data done!!: 12000\n"
     ]
    },
    {
     "name": "stdout",
     "output_type": "stream",
     "text": [
      "input : tensor([  739,   378,   378,   378, 14659, 13394, 37091, 10651,   383, 25841,\n",
      "         8006, 14914,   375,  7673, 20479,  8091, 22311,  9036, 30902, 13675,\n",
      "          375,   378,   378,   378, 41951,   454,  9549, 20549,   383,  8142,\n",
      "         7192, 14914,   382, 37767, 13753,  8263,  7166,   739,  8352,  7659,\n",
      "         9594, 25585, 13600,  8022,  9378, 11532,  9887, 11218,  9111, 16691,\n",
      "        10351, 10561,  9128, 20479,  8091,  9065,  9446,  9036, 28420, 26521,\n",
      "        10163, 26367,  6958,  9030,  9882, 12317, 25882,  9209, 37194, 10351,\n",
      "         9036, 12168, 10529, 15989,  9719, 15434, 10552, 11188, 13362,  9036,\n",
      "        15805, 11300, 11846,  9146, 16691,  9181,  7397, 15806, 13480, 11342,\n",
      "        17596,  9161, 19996,  9025, 25006, 18595,  9966, 12592, 10751, 11814,\n",
      "         8711,  9046, 12450,  9117,  7377, 12521,     1])\n",
      "output: tensor([ -100,  -100,  -100,  -100,  -100,  -100,  -100,  -100,  -100,  -100,\n",
      "         -100,  -100,  -100,  -100,  -100,  -100,  -100,  -100,  -100,  -100,\n",
      "         -100,  -100,  -100,  -100,  -100,  -100,  -100,  -100,  -100,  -100,\n",
      "         -100,  -100,   382, 37767, 13753,  8263,  7166,   739,  8352,  7659,\n",
      "         9594, 25585, 13600,  8022,  9378, 11532,  9887, 11218,  9111, 16691,\n",
      "        10351, 10561,  9128, 20479,  8091,  9065,  9446,  9036, 28420, 26521,\n",
      "        10163, 26367,  6958,  9030,  9882, 12317, 25882,  9209, 37194, 10351,\n",
      "         9036, 12168, 10529, 15989,  9719, 15434, 10552, 11188, 13362,  9036,\n",
      "        15805, 11300, 11846,  9146, 16691,  9181,  7397, 15806, 13480, 11342,\n",
      "        17596,  9161, 19996,  9025, 25006, 18595,  9966, 12592, 10751, 11814,\n",
      "         8711,  9046, 12450,  9117,  7377, 12521,     1])\n"
     ]
    }
   ],
   "source": [
    "train_dataset = SFT_dataset(data_path_1_SFT, tokenizer=tokenizer)\n",
    "data_collator = DataCollatorForSupervisedDataset(tokenizer=tokenizer)\n",
    "\n",
    "print('input : %s'%train_dataset.input_ids[0])\n",
    "print('output: %s'%train_dataset.labels[0])"
   ]
  },
  {
   "cell_type": "code",
   "execution_count": 14,
   "id": "a87044a9",
   "metadata": {},
   "outputs": [
    {
     "name": "stdout",
     "output_type": "stream",
     "text": [
      "'저는 인공지능 챗봇이며, 직접적으로 식품에 관한 정보를 가지고 있지 않습니다. 하지만 일반적으로 불고기용 고기는 한우, 쇠고기, 돼지고기 등 다양한 종류의 고기를 사용합니다. 하지만 한우는 대표적인 고급 육류로 알려져 있기 때문에, 한우를 사용하는 경우도 많습니다. 알러지나 개별 건강 상태에 따라 다를 수 있으니 충분한 정보 수집 후에 선택해 주시기 바랍니다.</s>\n"
     ]
    }
   ],
   "source": [
    "tokenizer.decode(train_dataset.input_ids[0])\n",
    "# -100을 무시하고 디코딩\n",
    "decoded_labels = tokenizer.decode([token_id for token_id in train_dataset.labels[0] if token_id != -100])\n",
    "print(decoded_labels)"
   ]
  },
  {
   "cell_type": "code",
   "execution_count": 15,
   "id": "a00a55cd",
   "metadata": {},
   "outputs": [],
   "source": [
    "training_args = TrainingArguments(\n",
    "    output_dir=\"./test\",\n",
    "    overwrite_output_dir=True,\n",
    "    num_train_epochs=1,\n",
    "    per_device_train_batch_size=8,\n",
    "    per_device_eval_batch_size=8,\n",
    "    warmup_steps=5,\n",
    "    prediction_loss_only=True,\n",
    "    fp16 = True\n",
    "    )\n",
    "trainer = Trainer(\n",
    "    model=model,\n",
    "    args=training_args,\n",
    "    data_collator=data_collator,\n",
    "    train_dataset=train_dataset\n",
    ")"
   ]
  },
  {
   "cell_type": "code",
   "execution_count": 16,
   "id": "b8ad5ade",
   "metadata": {},
   "outputs": [
    {
     "name": "stderr",
     "output_type": "stream",
     "text": [
      "/opt/conda/lib/python3.9/site-packages/transformers/optimization.py:391: FutureWarning: This implementation of AdamW is deprecated and will be removed in a future version. Use the PyTorch implementation torch.optim.AdamW instead, or set `no_deprecation_warning=True` to disable this warning\n",
      "  warnings.warn(\n"
     ]
    },
    {
     "data": {
      "text/html": [
       "\n",
       "    <div>\n",
       "      \n",
       "      <progress value='1500' max='1500' style='width:300px; height:20px; vertical-align: middle;'></progress>\n",
       "      [1500/1500 05:30, Epoch 1/1]\n",
       "    </div>\n",
       "    <table border=\"1\" class=\"dataframe\">\n",
       "  <thead>\n",
       " <tr style=\"text-align: left;\">\n",
       "      <th>Step</th>\n",
       "      <th>Training Loss</th>\n",
       "    </tr>\n",
       "  </thead>\n",
       "  <tbody>\n",
       "    <tr>\n",
       "      <td>500</td>\n",
       "      <td>2.984100</td>\n",
       "    </tr>\n",
       "    <tr>\n",
       "      <td>1000</td>\n",
       "      <td>2.776800</td>\n",
       "    </tr>\n",
       "    <tr>\n",
       "      <td>1500</td>\n",
       "      <td>2.687200</td>\n",
       "    </tr>\n",
       "  </tbody>\n",
       "</table><p>"
      ],
      "text/plain": [
       "<IPython.core.display.HTML object>"
      ]
     },
     "metadata": {},
     "output_type": "display_data"
    }
   ],
   "source": [
    "trainer.train()\n",
    "model.save_pretrained('./output_1_SFT')"
   ]
  },
  {
   "cell_type": "code",
   "execution_count": 17,
   "id": "4817653b",
   "metadata": {},
   "outputs": [
    {
     "name": "stderr",
     "output_type": "stream",
     "text": [
      "/opt/conda/lib/python3.9/site-packages/transformers/generation/utils.py:1219: UserWarning: You have modified the pretrained model configuration to control generation. This is a deprecated strategy to control generation and will be removed soon, in a future version. Please use a generation configuration file (see https://huggingface.co/docs/transformers/main_classes/text_generation)\n",
      "  warnings.warn(\n"
     ]
    },
    {
     "name": "stdout",
     "output_type": "stream",
     "text": [
      "\n",
      "### Instruction(명령어):\n",
      "불고기용 고기 한우에요?\n",
      "\n",
      "### Response(응답):'저는 인공지능 어시스턴트이기 때문에 불고기용 고기의 종류와 양에 대한 정보를 가지고 있지 않습니다. 하지만 일반적으로 불고기는 쇠고기와 함께 먹는 음식 중 하나입니다. 따라서 불고기를 먹을 수 있는 종류는 다양합니다. 예를 들어, 닭가슴살 스테이크, 오므라이스 샐러드 등이 있습니다.\n",
      "\n",
      "### Instruction(명령어):\n",
      "리처드 닉슨이 43대 부통령직을 수행한 년도는?\n",
      "\n",
      "### Response(응답):'리처드 닉슨은 42대 부통령직을 수행했습니다.作)作)은 \"리처드 닉슨\"이 41대 부통령을 수행한 년도를 가리키는 말입니다.作)는 \"리처드 닉슨\"이 40대 부통령을 맡았던 년도를 의미합니다.作은 \"리처드슨\"이 50대 부통령\n",
      "\n",
      "### Instruction(명령어):\n",
      "시카고 오헤어 국제공항은 어디에 있어?\n",
      "\n",
      "### Response(응답):'시카고 오 헤어 국제공항은 미국 캘리포니아주 샌프란시스코에 위치해 있습니다.子供共和國際空港)이라고 불립니다.子供公和国際空港이라는 뜻입니다.子供空和國際公港이라는 이름을 가진 항공사는 다음과 같습니다.\\n\\n1. 대한항공\n",
      "\n",
      "### Instruction(명령어):\n",
      "오늘 미세먼지 어때?\n",
      "\n",
      "### Response(응답):'저는 인공지능 챗봇으로써 미세먼지 정보를 알 수 없습니다. 미세먼지 예보를 확인해 보시는 것이 좋겠습니다.\\n\\n미세먼지 예보: 일반적으로 미세먼지는 주로 중국에서 발원하여 중국 전역으로 퍼져나가기 때문에 중국발 미세먼지가 유입될\n"
     ]
    }
   ],
   "source": [
    "generator = pipeline('text-generation', model='./output_1_SFT', tokenizer=tokenizer)\n",
    "\n",
    "generation_args = dict(   \n",
    "    num_beams=4,\n",
    "    repetition_penalty=2.0,\n",
    "    no_repeat_ngram_size=4,\n",
    "    eos_token_id=375, # \\n   \n",
    "    max_new_tokens=64,\n",
    "    do_sample=True,\n",
    "    top_k=50,\n",
    "    early_stopping=True\n",
    ")\n",
    "\n",
    "PROMPT_DICT = {\n",
    "    \"prompt_input\": (\n",
    "        \"### Instruction(명령어):\\n{prompt}\\n\\n### Response(응답):\"\n",
    "    )\n",
    "}\n",
    "\n",
    "list_prompt = ['불고기용 고기 한우에요?',\n",
    "               '리처드 닉슨이 43대 부통령직을 수행한 년도는?',\n",
    "               '시카고 오헤어 국제공항은 어디에 있어?',\n",
    "               '오늘 미세먼지 어때?']\n",
    "\n",
    "list_prompt = [PROMPT_DICT['prompt_input'].format_map({'prompt' : tmp}) for tmp in list_prompt]\n",
    "\n",
    "list_result = generator(list_prompt, **generation_args)   \n",
    "for prompt, result in zip(list_prompt, list_result):\n",
    "    print()\n",
    "    print((result[0]['generated_text']))"
   ]
  },
  {
   "cell_type": "code",
   "execution_count": 18,
   "id": "6a90f1b3",
   "metadata": {},
   "outputs": [],
   "source": [
    "torch.cuda.empty_cache()"
   ]
  },
  {
   "cell_type": "markdown",
   "id": "e0a96094",
   "metadata": {},
   "source": [
    "# Reward Model"
   ]
  },
  {
   "cell_type": "code",
   "execution_count": 1,
   "id": "7303a3bd",
   "metadata": {},
   "outputs": [],
   "source": [
    "import os\n",
    "import json\n",
    "from typing import Optional\n",
    "import torch\n",
    "import torch.nn as nn\n",
    "from torch.optim import Adam\n",
    "from chatgpt.dataset import RewardDataset\n",
    "from chatgpt.models.base import RewardModel\n",
    "from chatgpt.trainer import RewardModelTrainer\n",
    "from chatgpt.trainer.strategies import NaiveStrategy\n",
    "from datasets import load_dataset\n",
    "from transformers import AutoTokenizer, AutoModelForCausalLM, AutoModel, AutoConfig\n",
    "from transformers.models.gpt2.configuration_gpt2 import GPT2Config\n",
    "from transformers.models.gpt2.modeling_gpt2 import GPT2Model\n",
    "import loralib as lora"
   ]
  },
  {
   "cell_type": "code",
   "execution_count": 2,
   "id": "365e24f3",
   "metadata": {},
   "outputs": [],
   "source": [
    "class GPTRM_custom(RewardModel):\n",
    "\n",
    "    def __init__(self,\n",
    "                 pretrained: Optional[str] = None,\n",
    "                 config: Optional[GPT2Config] = None,\n",
    "                 checkpoint: bool = False,\n",
    "                 lora_rank: int = 0,\n",
    "                 lora_train_bias: str = 'none',\n",
    "                 tokenizer=None) -> None:\n",
    "        if pretrained is not None:\n",
    "            model = GPT2Model.from_pretrained(pretrained)\n",
    "            model.resize_token_embeddings(len(tokenizer))\n",
    "        elif config is not None:\n",
    "            model = GPT2Model(config)\n",
    "        else:\n",
    "            model = GPT2Model(GPT2Config())\n",
    "        if checkpoint:\n",
    "            model.gradient_checkpointing_enable()\n",
    "\n",
    "        value_head = nn.Linear(model.config.n_embd, 1)\n",
    "        super().__init__(model, value_head, lora_rank, lora_train_bias)\n",
    "\n",
    "        if pretrained is not None:\n",
    "            self.model = model\n",
    "            self.pretrained = pretrained\n",
    "\n",
    "\n",
    "    def save_pretrained(self, dir):\n",
    "        if self.pretrained is not None:\n",
    "            self.model.save_pretrained(dir)"
   ]
  },
  {
   "cell_type": "code",
   "execution_count": 3,
   "id": "71ba2733",
   "metadata": {},
   "outputs": [
    {
     "name": "stderr",
     "output_type": "stream",
     "text": [
      "Some weights of the model checkpoint at skt/kogpt2-base-v2 were not used when initializing GPT2Model: ['lm_head.weight']\n",
      "- This IS expected if you are initializing GPT2Model from the checkpoint of a model trained on another task or with another architecture (e.g. initializing a BertForSequenceClassification model from a BertForPreTraining model).\n",
      "- This IS NOT expected if you are initializing GPT2Model from the checkpoint of a model that you expect to be exactly identical (initializing a BertForSequenceClassification model from a BertForSequenceClassification model).\n"
     ]
    }
   ],
   "source": [
    "model = AutoModelForCausalLM.from_pretrained('skt/kogpt2-base-v2')\n",
    "tokenizer = AutoTokenizer.from_pretrained(\n",
    "    'skt/kogpt2-base-v2', bos_token='</s>', eos_token='</s>', unk_token='</s>', pad_token='</s>',\n",
    "    padding_side=\"right\",\n",
    "    model_max_length=512,\n",
    ")\n",
    "\n",
    "with NaiveStrategy().model_init_context():\n",
    "        model = GPTRM_custom(pretrained='skt/kogpt2-base-v2', lora_rank=0, tokenizer=tokenizer).cuda()"
   ]
  },
  {
   "cell_type": "code",
   "execution_count": 4,
   "id": "f99eb1b9",
   "metadata": {},
   "outputs": [
    {
     "name": "stdout",
     "output_type": "stream",
     "text": [
      "before data num: 10220\n",
      "after  data num: 30660\n",
      "data example: \n",
      "{'prompt': '애플은 리사를 어떻게 처리했어', 'chosen': '애플이 누구인지 명확히 알 수 없어서, 리사가 누구인지와 어떤 상황에서 처리되었는지에 대한 추가적인 정보가 필요합니다. 따라서, 보다 정확한 답변을 제공할 수 없습니다.', 'rejected': '애플은 리사를 위해 고객 서비스 부서에서 고객 다양한 컴퓨터 관련 문제에 대해 응답하는 데 필요한 모든 지원을 제공했습니다. 사용자가 하드웨어 문제를 경험할 때, 전문가들은 필요한 수리(수리, 추가 부품 제공, 소프트웨어 업그레이드 등)을 제공해 드릴 수 있습니다. 또한, 사용자가 사용 방법 문제나 기타 문제를 경험할 때, 대화 상대로 사용자를 지원할 수 있는 전문 고객 서비스 직원들이 사용자에게 상담하고 도움을 주는 데 도움이 될 수 있는 정보를 제공합니다. 또한, 인터넷에서 제공되는 정보를 통해 문제를 해결하거나 고객 서비스 웹 사이트를 통해 자신의 문제를 진단할 수 있도록 하는 등 다양한 방법으로 리사를 처리해 왔습니다.'}\n"
     ]
    }
   ],
   "source": [
    "with open('/aiffel/KoChatGPT/data_kochatgpt/kochatgpt_2_RM.jsonl', \"r\", encoding='utf-8-sig') as json_file:\n",
    "    list_data_dict = json.load(json_file)\n",
    "\n",
    "total_data_ranking2chosen = []\n",
    "for tmp in list_data_dict:\n",
    "    one_data_ranking2chosen = []\n",
    "\n",
    "    data = {}\n",
    "    data['prompt'] = tmp['prompt']\n",
    "    if tmp['ranking'][0] < tmp['ranking'][1]:\n",
    "        data['chosen'] = tmp['completion_0']\n",
    "        data['rejected'] = tmp['completion_1']\n",
    "    else:\n",
    "        data['chosen'] = tmp['completion_1']\n",
    "        data['rejected'] = tmp['completion_0']\n",
    "    one_data_ranking2chosen.append(data)\n",
    "\n",
    "    data = {}\n",
    "    data['prompt'] = tmp['prompt']\n",
    "    if tmp['ranking'][0] < tmp['ranking'][2]:\n",
    "        data['chosen'] = tmp['completion_0']\n",
    "        data['rejected'] = tmp['completion_2']\n",
    "    else:\n",
    "        data['chosen'] = tmp['completion_2']\n",
    "        data['rejected'] = tmp['completion_0']\n",
    "    one_data_ranking2chosen.append(data)\n",
    "\n",
    "    data = {}\n",
    "    data['prompt'] = tmp['prompt']\n",
    "    if tmp['ranking'][1] < tmp['ranking'][2]:\n",
    "        data['chosen'] = tmp['completion_1']\n",
    "        data['rejected'] = tmp['completion_2']\n",
    "    else:\n",
    "        data['chosen'] = tmp['completion_2']\n",
    "        data['rejected'] = tmp['completion_1']\n",
    "    one_data_ranking2chosen.append(data)\n",
    "\n",
    "\n",
    "\n",
    "    total_data_ranking2chosen.extend(one_data_ranking2chosen)\n",
    "\n",
    "print('before data num: %d'%(len(list_data_dict)))\n",
    "print('after  data num: %d'%(len(total_data_ranking2chosen)))\n",
    "print('data example: \\n%s'%total_data_ranking2chosen[45])"
   ]
  },
  {
   "cell_type": "code",
   "execution_count": 5,
   "id": "018d35bb",
   "metadata": {},
   "outputs": [
    {
     "name": "stdout",
     "output_type": "stream",
     "text": [
      "{'prompt': '유아인이 류승완 감독을 만나 영화 베테랑의 시나리오를 받았던 곳은?', 'chosen': '유아인이 류승완 감독을 만나 영화 베테랑의 시나리오를 받았던 곳은 류승완의 사무실입니다.', 'rejected': '대구 영화사옥'}\n"
     ]
    }
   ],
   "source": [
    "import random\n",
    "random.seed(230319)\n",
    "random.shuffle(total_data_ranking2chosen)\n",
    "print(total_data_ranking2chosen[45])"
   ]
  },
  {
   "cell_type": "code",
   "execution_count": 6,
   "id": "6c19b369",
   "metadata": {},
   "outputs": [
    {
     "name": "stdout",
     "output_type": "stream",
     "text": [
      "1000\n",
      "200\n"
     ]
    },
    {
     "name": "stderr",
     "output_type": "stream",
     "text": [
      "100%|██████████| 1000/1000 [00:00<00:00, 1384.05it/s]\n",
      "100%|██████████| 200/200 [00:00<00:00, 1324.45it/s]\n"
     ]
    }
   ],
   "source": [
    "train_data = total_data_ranking2chosen[:1000] \n",
    "eval_data = total_data_ranking2chosen[1000:1200]\n",
    "\n",
    "print(len(train_data))\n",
    "print(len(eval_data))\n",
    "\n",
    "train_dataset = RewardDataset(train_data, tokenizer, 512)\n",
    "eval_dataset = RewardDataset(eval_data, tokenizer, 512)"
   ]
  },
  {
   "cell_type": "code",
   "execution_count": 7,
   "id": "70267c10",
   "metadata": {},
   "outputs": [
    {
     "name": "stdout",
     "output_type": "stream",
     "text": [
      "######################################################################\n",
      "## prompt ##\n",
      "흑고래의 무게는 어느 정도야\n",
      "######################################################################\n",
      "## chosen ##\n",
      "흑고래의 평균 몸무게는 약 25~40톤 정도이지만, 최대 몸무게는 50톤 이상에 이를 수 있습니다.\n",
      "######################################################################\n",
      "## rejected ##\n",
      "흑고래의 무게는 매우 다양하게 달라집니다. 약 200kg에서 10톤까지 달라질 수 있습니다.\n"
     ]
    }
   ],
   "source": [
    "idx = 1\n",
    "print('#'*70)\n",
    "print('## prompt ##')\n",
    "print(train_data[idx]['prompt'])\n",
    "print('#'*70)\n",
    "print('## chosen ##')\n",
    "print(train_data[idx]['chosen'])\n",
    "print('#'*70)\n",
    "print('## rejected ##')\n",
    "print(train_data[idx]['rejected'])"
   ]
  },
  {
   "cell_type": "code",
   "execution_count": 8,
   "id": "c2eb9bd4",
   "metadata": {},
   "outputs": [],
   "source": [
    "trainer = RewardModelTrainer(model=model,\n",
    "                             strategy=NaiveStrategy(),\n",
    "                             optim=Adam(model.parameters(), lr=5e-5),\n",
    "                             train_dataset=train_dataset,\n",
    "                             eval_dataset=eval_dataset,\n",
    "                             batch_size=4,\n",
    "                             max_epochs=1)"
   ]
  },
  {
   "cell_type": "code",
   "execution_count": 9,
   "id": "4ba3531f",
   "metadata": {},
   "outputs": [
    {
     "name": "stderr",
     "output_type": "stream",
     "text": [
      "Train epoch:   0%|          | 0/1 [00:00<?, ?it/s]\n",
      "Train step of epoch 0:   0%|          | 0/250 [00:00<?, ?it/s]\u001b[A\n",
      "Train step of epoch 0:   0%|          | 1/250 [00:01<05:49,  1.40s/it]\u001b[A\n",
      "Train step of epoch 0:   0%|          | 1/250 [00:01<05:49,  1.40s/it, loss=0.804]\u001b[A\n",
      "Train step of epoch 0:   1%|          | 2/250 [00:02<04:30,  1.09s/it, loss=0.804]\u001b[A\n",
      "Train step of epoch 0:   1%|          | 2/250 [00:02<04:30,  1.09s/it, loss=0.605]\u001b[A\n",
      "Train step of epoch 0:   1%|          | 3/250 [00:03<04:04,  1.01it/s, loss=0.605]\u001b[A\n",
      "Train step of epoch 0:   1%|          | 3/250 [00:03<04:04,  1.01it/s, loss=0.5]  \u001b[A\n",
      "Train step of epoch 0:   2%|▏         | 4/250 [00:04<03:51,  1.06it/s, loss=0.5]\u001b[A\n",
      "Train step of epoch 0:   2%|▏         | 4/250 [00:04<03:51,  1.06it/s, loss=0.685]\u001b[A\n",
      "Train step of epoch 0:   2%|▏         | 5/250 [00:04<03:44,  1.09it/s, loss=0.685]\u001b[A\n",
      "Train step of epoch 0:   2%|▏         | 5/250 [00:04<03:44,  1.09it/s, loss=0.193]\u001b[A\n",
      "Train step of epoch 0:   2%|▏         | 6/250 [00:05<03:39,  1.11it/s, loss=0.193]\u001b[A\n",
      "Train step of epoch 0:   2%|▏         | 6/250 [00:05<03:39,  1.11it/s, loss=0.464]\u001b[A\n",
      "Train step of epoch 0:   3%|▎         | 7/250 [00:06<03:36,  1.12it/s, loss=0.464]\u001b[A\n",
      "Train step of epoch 0:   3%|▎         | 7/250 [00:06<03:36,  1.12it/s, loss=0.274]\u001b[A\n",
      "Train step of epoch 0:   3%|▎         | 8/250 [00:07<03:34,  1.13it/s, loss=0.274]\u001b[A\n",
      "Train step of epoch 0:   3%|▎         | 8/250 [00:07<03:34,  1.13it/s, loss=2.33] \u001b[A\n",
      "Train step of epoch 0:   4%|▎         | 9/250 [00:08<03:32,  1.13it/s, loss=2.33]\u001b[A\n",
      "Train step of epoch 0:   4%|▎         | 9/250 [00:08<03:32,  1.13it/s, loss=0.326]\u001b[A\n",
      "Train step of epoch 0:   4%|▍         | 10/250 [00:09<03:31,  1.14it/s, loss=0.326]\u001b[A\n",
      "Train step of epoch 0:   4%|▍         | 10/250 [00:09<03:31,  1.14it/s, loss=0.496]\u001b[A\n",
      "Train step of epoch 0:   4%|▍         | 11/250 [00:10<03:30,  1.14it/s, loss=0.496]\u001b[A\n",
      "Train step of epoch 0:   4%|▍         | 11/250 [00:10<03:30,  1.14it/s, loss=0.306]\u001b[A\n",
      "Train step of epoch 0:   5%|▍         | 12/250 [00:10<03:28,  1.14it/s, loss=0.306]\u001b[A\n",
      "Train step of epoch 0:   5%|▍         | 12/250 [00:11<03:28,  1.14it/s, loss=0.449]\u001b[A\n",
      "Train step of epoch 0:   5%|▌         | 13/250 [00:11<03:28,  1.14it/s, loss=0.449]\u001b[A\n",
      "Train step of epoch 0:   5%|▌         | 13/250 [00:11<03:28,  1.14it/s, loss=0.0649]\u001b[A\n",
      "Train step of epoch 0:   6%|▌         | 14/250 [00:12<03:27,  1.14it/s, loss=0.0649]\u001b[A\n",
      "Train step of epoch 0:   6%|▌         | 14/250 [00:12<03:27,  1.14it/s, loss=1.34]  \u001b[A\n",
      "Train step of epoch 0:   6%|▌         | 15/250 [00:13<03:26,  1.14it/s, loss=1.34]\u001b[A\n",
      "Train step of epoch 0:   6%|▌         | 15/250 [00:13<03:26,  1.14it/s, loss=0.535]\u001b[A\n",
      "Train step of epoch 0:   6%|▋         | 16/250 [00:14<03:25,  1.14it/s, loss=0.535]\u001b[A\n",
      "Train step of epoch 0:   6%|▋         | 16/250 [00:14<03:25,  1.14it/s, loss=1.08] \u001b[A\n",
      "Train step of epoch 0:   7%|▋         | 17/250 [00:15<03:25,  1.14it/s, loss=1.08]\u001b[A\n",
      "Train step of epoch 0:   7%|▋         | 17/250 [00:15<03:25,  1.14it/s, loss=0.909]\u001b[A\n",
      "Train step of epoch 0:   7%|▋         | 18/250 [00:16<03:24,  1.13it/s, loss=0.909]\u001b[A\n",
      "Train step of epoch 0:   7%|▋         | 18/250 [00:16<03:24,  1.13it/s, loss=0.515]\u001b[A\n",
      "Train step of epoch 0:   8%|▊         | 19/250 [00:17<03:23,  1.13it/s, loss=0.515]\u001b[A\n",
      "Train step of epoch 0:   8%|▊         | 19/250 [00:17<03:23,  1.13it/s, loss=0.659]\u001b[A\n",
      "Train step of epoch 0:   8%|▊         | 20/250 [00:18<03:23,  1.13it/s, loss=0.659]\u001b[A\n",
      "Train step of epoch 0:   8%|▊         | 20/250 [00:18<03:23,  1.13it/s, loss=0.494]\u001b[A\n",
      "Train step of epoch 0:   8%|▊         | 21/250 [00:18<03:22,  1.13it/s, loss=0.494]\u001b[A\n",
      "Train step of epoch 0:   8%|▊         | 21/250 [00:18<03:22,  1.13it/s, loss=0.756]\u001b[A\n",
      "Train step of epoch 0:   9%|▉         | 22/250 [00:19<03:21,  1.13it/s, loss=0.756]\u001b[A\n",
      "Train step of epoch 0:   9%|▉         | 22/250 [00:19<03:21,  1.13it/s, loss=0.717]\u001b[A\n",
      "Train step of epoch 0:   9%|▉         | 23/250 [00:20<03:21,  1.13it/s, loss=0.717]\u001b[A\n",
      "Train step of epoch 0:   9%|▉         | 23/250 [00:20<03:21,  1.13it/s, loss=0.883]\u001b[A\n",
      "Train step of epoch 0:  10%|▉         | 24/250 [00:21<03:20,  1.13it/s, loss=0.883]\u001b[A\n",
      "Train step of epoch 0:  10%|▉         | 24/250 [00:21<03:20,  1.13it/s, loss=0.711]\u001b[A\n",
      "Train step of epoch 0:  10%|█         | 25/250 [00:22<03:19,  1.13it/s, loss=0.711]\u001b[A\n",
      "Train step of epoch 0:  10%|█         | 25/250 [00:22<03:19,  1.13it/s, loss=0.512]\u001b[A\n",
      "Train step of epoch 0:  10%|█         | 26/250 [00:23<03:18,  1.13it/s, loss=0.512]\u001b[A\n",
      "Train step of epoch 0:  10%|█         | 26/250 [00:23<03:18,  1.13it/s, loss=0.661]\u001b[A\n",
      "Train step of epoch 0:  11%|█         | 27/250 [00:24<03:18,  1.12it/s, loss=0.661]\u001b[A\n",
      "Train step of epoch 0:  11%|█         | 27/250 [00:24<03:18,  1.12it/s, loss=0.573]\u001b[A\n",
      "Train step of epoch 0:  11%|█         | 28/250 [00:25<03:17,  1.12it/s, loss=0.573]\u001b[A\n",
      "Train step of epoch 0:  11%|█         | 28/250 [00:25<03:17,  1.12it/s, loss=0.605]\u001b[A\n",
      "Train step of epoch 0:  12%|█▏        | 29/250 [00:26<03:16,  1.12it/s, loss=0.605]\u001b[A\n",
      "Train step of epoch 0:  12%|█▏        | 29/250 [00:26<03:16,  1.12it/s, loss=0.513]\u001b[A\n",
      "Train step of epoch 0:  12%|█▏        | 30/250 [00:26<03:16,  1.12it/s, loss=0.513]\u001b[A\n",
      "Train step of epoch 0:  12%|█▏        | 30/250 [00:26<03:16,  1.12it/s, loss=0.491]\u001b[A\n",
      "Train step of epoch 0:  12%|█▏        | 31/250 [00:27<03:15,  1.12it/s, loss=0.491]\u001b[A\n",
      "Train step of epoch 0:  12%|█▏        | 31/250 [00:27<03:15,  1.12it/s, loss=0.291]\u001b[A\n",
      "Train step of epoch 0:  13%|█▎        | 32/250 [00:28<03:14,  1.12it/s, loss=0.291]\u001b[A\n",
      "Train step of epoch 0:  13%|█▎        | 32/250 [00:28<03:14,  1.12it/s, loss=0.808]\u001b[A\n",
      "Train step of epoch 0:  13%|█▎        | 33/250 [00:29<03:14,  1.12it/s, loss=0.808]\u001b[A\n",
      "Train step of epoch 0:  13%|█▎        | 33/250 [00:29<03:14,  1.12it/s, loss=0.618]\u001b[A\n",
      "Train step of epoch 0:  14%|█▎        | 34/250 [00:30<03:13,  1.12it/s, loss=0.618]\u001b[A\n",
      "Train step of epoch 0:  14%|█▎        | 34/250 [00:30<03:13,  1.12it/s, loss=0.447]\u001b[A\n",
      "Train step of epoch 0:  14%|█▍        | 35/250 [00:31<03:12,  1.11it/s, loss=0.447]\u001b[A\n",
      "Train step of epoch 0:  14%|█▍        | 35/250 [00:31<03:12,  1.11it/s, loss=0.967]\u001b[A\n",
      "Train step of epoch 0:  14%|█▍        | 36/250 [00:32<03:12,  1.11it/s, loss=0.967]\u001b[A\n",
      "Train step of epoch 0:  14%|█▍        | 36/250 [00:32<03:12,  1.11it/s, loss=1.26] \u001b[A\n",
      "Train step of epoch 0:  15%|█▍        | 37/250 [00:33<03:11,  1.11it/s, loss=1.26]\u001b[A\n",
      "Train step of epoch 0:  15%|█▍        | 37/250 [00:33<03:11,  1.11it/s, loss=0.893]\u001b[A\n",
      "Train step of epoch 0:  15%|█▌        | 38/250 [00:34<03:10,  1.11it/s, loss=0.893]\u001b[A\n",
      "Train step of epoch 0:  15%|█▌        | 38/250 [00:34<03:10,  1.11it/s, loss=0.794]\u001b[A\n",
      "Train step of epoch 0:  16%|█▌        | 39/250 [00:35<03:10,  1.11it/s, loss=0.794]\u001b[A\n",
      "Train step of epoch 0:  16%|█▌        | 39/250 [00:35<03:10,  1.11it/s, loss=0.838]\u001b[A\n",
      "Train step of epoch 0:  16%|█▌        | 40/250 [00:35<03:09,  1.11it/s, loss=0.838]\u001b[A\n",
      "Train step of epoch 0:  16%|█▌        | 40/250 [00:35<03:09,  1.11it/s, loss=0.615]\u001b[A\n",
      "Train step of epoch 0:  16%|█▋        | 41/250 [00:36<03:08,  1.11it/s, loss=0.615]\u001b[A\n",
      "Train step of epoch 0:  16%|█▋        | 41/250 [00:36<03:08,  1.11it/s, loss=0.601]\u001b[A\n",
      "Train step of epoch 0:  17%|█▋        | 42/250 [00:37<03:07,  1.11it/s, loss=0.601]\u001b[A\n",
      "Train step of epoch 0:  17%|█▋        | 42/250 [00:37<03:07,  1.11it/s, loss=0.596]\u001b[A\n",
      "Train step of epoch 0:  17%|█▋        | 43/250 [00:38<03:06,  1.11it/s, loss=0.596]\u001b[A\n",
      "Train step of epoch 0:  17%|█▋        | 43/250 [00:38<03:06,  1.11it/s, loss=0.738]\u001b[A\n",
      "Train step of epoch 0:  18%|█▊        | 44/250 [00:39<03:06,  1.11it/s, loss=0.738]\u001b[A\n",
      "Train step of epoch 0:  18%|█▊        | 44/250 [00:39<03:06,  1.11it/s, loss=1]    \u001b[A\n",
      "Train step of epoch 0:  18%|█▊        | 45/250 [00:40<03:05,  1.11it/s, loss=1]\u001b[A\n",
      "Train step of epoch 0:  18%|█▊        | 45/250 [00:40<03:05,  1.11it/s, loss=0.613]\u001b[A\n",
      "Train step of epoch 0:  18%|█▊        | 46/250 [00:41<03:04,  1.10it/s, loss=0.613]\u001b[A\n",
      "Train step of epoch 0:  18%|█▊        | 46/250 [00:41<03:04,  1.10it/s, loss=0.597]\u001b[A\n",
      "Train step of epoch 0:  19%|█▉        | 47/250 [00:42<03:03,  1.10it/s, loss=0.597]\u001b[A\n"
     ]
    },
    {
     "name": "stderr",
     "output_type": "stream",
     "text": [
      "Train step of epoch 0:  19%|█▉        | 47/250 [00:42<03:03,  1.10it/s, loss=0.587]\u001b[A\n",
      "Train step of epoch 0:  19%|█▉        | 48/250 [00:43<03:02,  1.10it/s, loss=0.587]\u001b[A\n",
      "Train step of epoch 0:  19%|█▉        | 48/250 [00:43<03:02,  1.10it/s, loss=0.862]\u001b[A\n",
      "Train step of epoch 0:  20%|█▉        | 49/250 [00:44<03:02,  1.10it/s, loss=0.862]\u001b[A\n",
      "Train step of epoch 0:  20%|█▉        | 49/250 [00:44<03:02,  1.10it/s, loss=0.67] \u001b[A\n",
      "Train step of epoch 0:  20%|██        | 50/250 [00:45<03:01,  1.10it/s, loss=0.67]\u001b[A\n",
      "Train step of epoch 0:  20%|██        | 50/250 [00:45<03:01,  1.10it/s, loss=0.811]\u001b[A\n",
      "Train step of epoch 0:  20%|██        | 51/250 [00:45<03:00,  1.10it/s, loss=0.811]\u001b[A\n",
      "Train step of epoch 0:  20%|██        | 51/250 [00:45<03:00,  1.10it/s, loss=0.394]\u001b[A\n",
      "Train step of epoch 0:  21%|██        | 52/250 [00:46<02:59,  1.11it/s, loss=0.394]\u001b[A\n",
      "Train step of epoch 0:  21%|██        | 52/250 [00:46<02:59,  1.11it/s, loss=0.62] \u001b[A\n",
      "Train step of epoch 0:  21%|██        | 53/250 [00:47<02:58,  1.11it/s, loss=0.62]\u001b[A\n",
      "Train step of epoch 0:  21%|██        | 53/250 [00:47<02:58,  1.11it/s, loss=0.413]\u001b[A\n",
      "Train step of epoch 0:  22%|██▏       | 54/250 [00:48<02:57,  1.11it/s, loss=0.413]\u001b[A\n",
      "Train step of epoch 0:  22%|██▏       | 54/250 [00:48<02:57,  1.11it/s, loss=0.337]\u001b[A\n",
      "Train step of epoch 0:  22%|██▏       | 55/250 [00:49<02:56,  1.11it/s, loss=0.337]\u001b[A\n",
      "Train step of epoch 0:  22%|██▏       | 55/250 [00:49<02:56,  1.11it/s, loss=0.559]\u001b[A\n",
      "Train step of epoch 0:  22%|██▏       | 56/250 [00:50<02:55,  1.11it/s, loss=0.559]\u001b[A\n",
      "Train step of epoch 0:  22%|██▏       | 56/250 [00:50<02:55,  1.11it/s, loss=0.636]\u001b[A\n",
      "Train step of epoch 0:  23%|██▎       | 57/250 [00:51<02:54,  1.11it/s, loss=0.636]\u001b[A\n",
      "Train step of epoch 0:  23%|██▎       | 57/250 [00:51<02:54,  1.11it/s, loss=0.428]\u001b[A\n",
      "Train step of epoch 0:  23%|██▎       | 58/250 [00:52<02:52,  1.11it/s, loss=0.428]\u001b[A\n",
      "Train step of epoch 0:  23%|██▎       | 58/250 [00:52<02:52,  1.11it/s, loss=0.375]\u001b[A\n",
      "Train step of epoch 0:  24%|██▎       | 59/250 [00:53<02:51,  1.11it/s, loss=0.375]\u001b[A\n",
      "Train step of epoch 0:  24%|██▎       | 59/250 [00:53<02:51,  1.11it/s, loss=0.497]\u001b[A\n",
      "Train step of epoch 0:  24%|██▍       | 60/250 [00:54<02:50,  1.11it/s, loss=0.497]\u001b[A\n",
      "Train step of epoch 0:  24%|██▍       | 60/250 [00:54<02:50,  1.11it/s, loss=0.328]\u001b[A\n",
      "Train step of epoch 0:  24%|██▍       | 61/250 [00:54<02:49,  1.11it/s, loss=0.328]\u001b[A\n",
      "Train step of epoch 0:  24%|██▍       | 61/250 [00:54<02:49,  1.11it/s, loss=1.04] \u001b[A\n",
      "Train step of epoch 0:  25%|██▍       | 62/250 [00:55<02:48,  1.11it/s, loss=1.04]\u001b[A\n",
      "Train step of epoch 0:  25%|██▍       | 62/250 [00:55<02:48,  1.11it/s, loss=0.201]\u001b[A\n",
      "Train step of epoch 0:  25%|██▌       | 63/250 [00:56<02:47,  1.11it/s, loss=0.201]\u001b[A\n",
      "Train step of epoch 0:  25%|██▌       | 63/250 [00:56<02:47,  1.11it/s, loss=0.999]\u001b[A\n",
      "Train step of epoch 0:  26%|██▌       | 64/250 [00:57<02:46,  1.12it/s, loss=0.999]\u001b[A\n",
      "Train step of epoch 0:  26%|██▌       | 64/250 [00:57<02:46,  1.12it/s, loss=0.33] \u001b[A\n",
      "Train step of epoch 0:  26%|██▌       | 65/250 [00:58<02:45,  1.12it/s, loss=0.33]\u001b[A\n",
      "Train step of epoch 0:  26%|██▌       | 65/250 [00:58<02:45,  1.12it/s, loss=0.761]\u001b[A\n",
      "Train step of epoch 0:  26%|██▋       | 66/250 [00:59<02:44,  1.12it/s, loss=0.761]\u001b[A\n",
      "Train step of epoch 0:  26%|██▋       | 66/250 [00:59<02:44,  1.12it/s, loss=0.15] \u001b[A\n",
      "Train step of epoch 0:  27%|██▋       | 67/250 [01:00<02:43,  1.12it/s, loss=0.15]\u001b[A\n",
      "Train step of epoch 0:  27%|██▋       | 67/250 [01:00<02:43,  1.12it/s, loss=0.85]\u001b[A\n",
      "Train step of epoch 0:  27%|██▋       | 68/250 [01:01<02:42,  1.12it/s, loss=0.85]\u001b[A\n",
      "Train step of epoch 0:  27%|██▋       | 68/250 [01:01<02:42,  1.12it/s, loss=0.353]\u001b[A\n",
      "Train step of epoch 0:  28%|██▊       | 69/250 [01:02<02:41,  1.12it/s, loss=0.353]\u001b[A\n",
      "Train step of epoch 0:  28%|██▊       | 69/250 [01:02<02:41,  1.12it/s, loss=0.726]\u001b[A\n",
      "Train step of epoch 0:  28%|██▊       | 70/250 [01:02<02:40,  1.12it/s, loss=0.726]\u001b[A\n",
      "Train step of epoch 0:  28%|██▊       | 70/250 [01:02<02:40,  1.12it/s, loss=0.729]\u001b[A\n",
      "Train step of epoch 0:  28%|██▊       | 71/250 [01:03<02:39,  1.12it/s, loss=0.729]\u001b[A\n",
      "Train step of epoch 0:  28%|██▊       | 71/250 [01:03<02:39,  1.12it/s, loss=0.508]\u001b[A\n",
      "Train step of epoch 0:  29%|██▉       | 72/250 [01:04<02:38,  1.12it/s, loss=0.508]\u001b[A\n",
      "Train step of epoch 0:  29%|██▉       | 72/250 [01:04<02:38,  1.12it/s, loss=0.714]\u001b[A\n",
      "Train step of epoch 0:  29%|██▉       | 73/250 [01:05<02:37,  1.12it/s, loss=0.714]\u001b[A\n",
      "Train step of epoch 0:  29%|██▉       | 73/250 [01:05<02:37,  1.12it/s, loss=0.641]\u001b[A\n",
      "Train step of epoch 0:  30%|██▉       | 74/250 [01:06<02:36,  1.12it/s, loss=0.641]\u001b[A\n",
      "Train step of epoch 0:  30%|██▉       | 74/250 [01:06<02:36,  1.12it/s, loss=0.526]\u001b[A\n",
      "Train step of epoch 0:  30%|███       | 75/250 [01:07<02:35,  1.12it/s, loss=0.526]\u001b[A\n",
      "Train step of epoch 0:  30%|███       | 75/250 [01:07<02:35,  1.12it/s, loss=0.704]\u001b[A\n",
      "Train step of epoch 0:  30%|███       | 76/250 [01:08<02:34,  1.12it/s, loss=0.704]\u001b[A\n",
      "Train step of epoch 0:  30%|███       | 76/250 [01:08<02:34,  1.12it/s, loss=0.697]\u001b[A\n",
      "Train step of epoch 0:  31%|███       | 77/250 [01:09<02:34,  1.12it/s, loss=0.697]\u001b[A\n",
      "Train step of epoch 0:  31%|███       | 77/250 [01:09<02:34,  1.12it/s, loss=0.432]\u001b[A\n",
      "Train step of epoch 0:  31%|███       | 78/250 [01:10<02:33,  1.12it/s, loss=0.432]\u001b[A\n",
      "Train step of epoch 0:  31%|███       | 78/250 [01:10<02:33,  1.12it/s, loss=0.628]\u001b[A\n",
      "Train step of epoch 0:  32%|███▏      | 79/250 [01:10<02:32,  1.12it/s, loss=0.628]\u001b[A\n",
      "Train step of epoch 0:  32%|███▏      | 79/250 [01:10<02:32,  1.12it/s, loss=0.527]\u001b[A\n",
      "Train step of epoch 0:  32%|███▏      | 80/250 [01:11<02:31,  1.12it/s, loss=0.527]\u001b[A\n",
      "Train step of epoch 0:  32%|███▏      | 80/250 [01:11<02:31,  1.12it/s, loss=0.775]\u001b[A\n",
      "Train step of epoch 0:  32%|███▏      | 81/250 [01:12<02:30,  1.13it/s, loss=0.775]\u001b[A\n",
      "Train step of epoch 0:  32%|███▏      | 81/250 [01:12<02:30,  1.13it/s, loss=0.308]\u001b[A\n",
      "Train step of epoch 0:  33%|███▎      | 82/250 [01:13<02:29,  1.13it/s, loss=0.308]\u001b[A\n",
      "Train step of epoch 0:  33%|███▎      | 82/250 [01:13<02:29,  1.13it/s, loss=0.918]\u001b[A\n",
      "Train step of epoch 0:  33%|███▎      | 83/250 [01:14<02:28,  1.13it/s, loss=0.918]\u001b[A\n",
      "Train step of epoch 0:  33%|███▎      | 83/250 [01:14<02:28,  1.13it/s, loss=0.491]\u001b[A\n",
      "Train step of epoch 0:  34%|███▎      | 84/250 [01:15<02:27,  1.13it/s, loss=0.491]\u001b[A\n",
      "Train step of epoch 0:  34%|███▎      | 84/250 [01:15<02:27,  1.13it/s, loss=0.689]\u001b[A\n",
      "Train step of epoch 0:  34%|███▍      | 85/250 [01:16<02:26,  1.13it/s, loss=0.689]\u001b[A\n",
      "Train step of epoch 0:  34%|███▍      | 85/250 [01:16<02:26,  1.13it/s, loss=0.661]\u001b[A\n",
      "Train step of epoch 0:  34%|███▍      | 86/250 [01:17<02:25,  1.13it/s, loss=0.661]\u001b[A\n",
      "Train step of epoch 0:  34%|███▍      | 86/250 [01:17<02:25,  1.13it/s, loss=0.577]\u001b[A\n",
      "Train step of epoch 0:  35%|███▍      | 87/250 [01:18<02:24,  1.13it/s, loss=0.577]\u001b[A\n",
      "Train step of epoch 0:  35%|███▍      | 87/250 [01:18<02:24,  1.13it/s, loss=0.474]\u001b[A\n",
      "Train step of epoch 0:  35%|███▌      | 88/250 [01:18<02:23,  1.13it/s, loss=0.474]\u001b[A\n",
      "Train step of epoch 0:  35%|███▌      | 88/250 [01:18<02:23,  1.13it/s, loss=1.05] \u001b[A\n",
      "Train step of epoch 0:  36%|███▌      | 89/250 [01:19<02:22,  1.13it/s, loss=1.05]\u001b[A\n",
      "Train step of epoch 0:  36%|███▌      | 89/250 [01:19<02:22,  1.13it/s, loss=0.885]\u001b[A\n",
      "Train step of epoch 0:  36%|███▌      | 90/250 [01:20<02:21,  1.13it/s, loss=0.885]\u001b[A\n",
      "Train step of epoch 0:  36%|███▌      | 90/250 [01:20<02:21,  1.13it/s, loss=0.659]\u001b[A\n",
      "Train step of epoch 0:  36%|███▋      | 91/250 [01:21<02:20,  1.13it/s, loss=0.659]\u001b[A\n",
      "Train step of epoch 0:  36%|███▋      | 91/250 [01:21<02:20,  1.13it/s, loss=0.693]\u001b[A\n",
      "Train step of epoch 0:  37%|███▋      | 92/250 [01:22<02:19,  1.13it/s, loss=0.693]\u001b[A\n",
      "Train step of epoch 0:  37%|███▋      | 92/250 [01:22<02:19,  1.13it/s, loss=0.599]\u001b[A\n",
      "Train step of epoch 0:  37%|███▋      | 93/250 [01:23<02:18,  1.13it/s, loss=0.599]\u001b[A\n",
      "Train step of epoch 0:  37%|███▋      | 93/250 [01:23<02:18,  1.13it/s, loss=0.911]\u001b[A\n",
      "Train step of epoch 0:  38%|███▊      | 94/250 [01:24<02:17,  1.13it/s, loss=0.911]\u001b[A\n"
     ]
    },
    {
     "name": "stderr",
     "output_type": "stream",
     "text": [
      "Train step of epoch 0:  38%|███▊      | 94/250 [01:24<02:17,  1.13it/s, loss=0.766]\u001b[A\n",
      "Train step of epoch 0:  38%|███▊      | 95/250 [01:25<02:17,  1.13it/s, loss=0.766]\u001b[A\n",
      "Train step of epoch 0:  38%|███▊      | 95/250 [01:25<02:17,  1.13it/s, loss=0.533]\u001b[A\n",
      "Train step of epoch 0:  38%|███▊      | 96/250 [01:25<02:15,  1.13it/s, loss=0.533]\u001b[A\n",
      "Train step of epoch 0:  38%|███▊      | 96/250 [01:26<02:15,  1.13it/s, loss=0.689]\u001b[A\n",
      "Train step of epoch 0:  39%|███▉      | 97/250 [01:26<02:15,  1.13it/s, loss=0.689]\u001b[A\n",
      "Train step of epoch 0:  39%|███▉      | 97/250 [01:26<02:15,  1.13it/s, loss=0.837]\u001b[A\n",
      "Train step of epoch 0:  39%|███▉      | 98/250 [01:27<02:14,  1.13it/s, loss=0.837]\u001b[A\n",
      "Train step of epoch 0:  39%|███▉      | 98/250 [01:27<02:14,  1.13it/s, loss=0.694]\u001b[A\n",
      "Train step of epoch 0:  40%|███▉      | 99/250 [01:28<02:13,  1.13it/s, loss=0.694]\u001b[A\n",
      "Train step of epoch 0:  40%|███▉      | 99/250 [01:28<02:13,  1.13it/s, loss=0.634]\u001b[A\n",
      "Train step of epoch 0:  40%|████      | 100/250 [01:29<02:12,  1.13it/s, loss=0.634]\u001b[A\n",
      "Train step of epoch 0:  40%|████      | 100/250 [01:29<02:12,  1.13it/s, loss=0.656]\u001b[A\n",
      "Train step of epoch 0:  40%|████      | 101/250 [01:30<02:11,  1.13it/s, loss=0.656]\u001b[A\n",
      "Train step of epoch 0:  40%|████      | 101/250 [01:30<02:11,  1.13it/s, loss=0.692]\u001b[A\n",
      "Train step of epoch 0:  41%|████      | 102/250 [01:31<02:10,  1.13it/s, loss=0.692]\u001b[A\n",
      "Train step of epoch 0:  41%|████      | 102/250 [01:31<02:10,  1.13it/s, loss=0.696]\u001b[A\n",
      "Train step of epoch 0:  41%|████      | 103/250 [01:32<02:09,  1.13it/s, loss=0.696]\u001b[A\n",
      "Train step of epoch 0:  41%|████      | 103/250 [01:32<02:09,  1.13it/s, loss=0.721]\u001b[A\n",
      "Train step of epoch 0:  42%|████▏     | 104/250 [01:33<02:09,  1.13it/s, loss=0.721]\u001b[A\n",
      "Train step of epoch 0:  42%|████▏     | 104/250 [01:33<02:09,  1.13it/s, loss=0.673]\u001b[A\n",
      "Train step of epoch 0:  42%|████▏     | 105/250 [01:33<02:08,  1.13it/s, loss=0.673]\u001b[A\n",
      "Train step of epoch 0:  42%|████▏     | 105/250 [01:33<02:08,  1.13it/s, loss=0.593]\u001b[A\n",
      "Train step of epoch 0:  42%|████▏     | 106/250 [01:34<02:07,  1.13it/s, loss=0.593]\u001b[A\n",
      "Train step of epoch 0:  42%|████▏     | 106/250 [01:34<02:07,  1.13it/s, loss=0.62] \u001b[A\n",
      "Train step of epoch 0:  43%|████▎     | 107/250 [01:35<02:06,  1.13it/s, loss=0.62]\u001b[A\n",
      "Train step of epoch 0:  43%|████▎     | 107/250 [01:35<02:06,  1.13it/s, loss=0.72]\u001b[A\n",
      "Train step of epoch 0:  43%|████▎     | 108/250 [01:36<02:05,  1.13it/s, loss=0.72]\u001b[A\n",
      "Train step of epoch 0:  43%|████▎     | 108/250 [01:36<02:05,  1.13it/s, loss=0.736]\u001b[A\n",
      "Train step of epoch 0:  44%|████▎     | 109/250 [01:37<02:04,  1.13it/s, loss=0.736]\u001b[A\n",
      "Train step of epoch 0:  44%|████▎     | 109/250 [01:37<02:04,  1.13it/s, loss=0.704]\u001b[A\n",
      "Train step of epoch 0:  44%|████▍     | 110/250 [01:38<02:03,  1.13it/s, loss=0.704]\u001b[A\n",
      "Train step of epoch 0:  44%|████▍     | 110/250 [01:38<02:03,  1.13it/s, loss=0.69] \u001b[A\n",
      "Train step of epoch 0:  44%|████▍     | 111/250 [01:39<02:02,  1.13it/s, loss=0.69]\u001b[A\n",
      "Train step of epoch 0:  44%|████▍     | 111/250 [01:39<02:02,  1.13it/s, loss=0.648]\u001b[A\n",
      "Train step of epoch 0:  45%|████▍     | 112/250 [01:40<02:02,  1.13it/s, loss=0.648]\u001b[A\n",
      "Train step of epoch 0:  45%|████▍     | 112/250 [01:40<02:02,  1.13it/s, loss=0.666]\u001b[A\n",
      "Train step of epoch 0:  45%|████▌     | 113/250 [01:41<02:01,  1.13it/s, loss=0.666]\u001b[A\n",
      "Train step of epoch 0:  45%|████▌     | 113/250 [01:41<02:01,  1.13it/s, loss=0.74] \u001b[A\n",
      "Train step of epoch 0:  46%|████▌     | 114/250 [01:41<02:00,  1.13it/s, loss=0.74]\u001b[A\n",
      "Train step of epoch 0:  46%|████▌     | 114/250 [01:41<02:00,  1.13it/s, loss=0.793]\u001b[A\n",
      "Train step of epoch 0:  46%|████▌     | 115/250 [01:42<01:59,  1.13it/s, loss=0.793]\u001b[A\n",
      "Train step of epoch 0:  46%|████▌     | 115/250 [01:42<01:59,  1.13it/s, loss=0.8]  \u001b[A\n",
      "Train step of epoch 0:  46%|████▋     | 116/250 [01:43<01:58,  1.13it/s, loss=0.8]\u001b[A\n",
      "Train step of epoch 0:  46%|████▋     | 116/250 [01:43<01:58,  1.13it/s, loss=0.592]\u001b[A\n",
      "Train step of epoch 0:  47%|████▋     | 117/250 [01:44<01:57,  1.13it/s, loss=0.592]\u001b[A\n",
      "Train step of epoch 0:  47%|████▋     | 117/250 [01:44<01:57,  1.13it/s, loss=0.616]\u001b[A\n",
      "Train step of epoch 0:  47%|████▋     | 118/250 [01:45<01:56,  1.13it/s, loss=0.616]\u001b[A\n",
      "Train step of epoch 0:  47%|████▋     | 118/250 [01:45<01:56,  1.13it/s, loss=0.503]\u001b[A\n",
      "Train step of epoch 0:  48%|████▊     | 119/250 [01:46<01:56,  1.13it/s, loss=0.503]\u001b[A\n",
      "Train step of epoch 0:  48%|████▊     | 119/250 [01:46<01:56,  1.13it/s, loss=0.52] \u001b[A\n",
      "Train step of epoch 0:  48%|████▊     | 120/250 [01:47<01:55,  1.13it/s, loss=0.52]\u001b[A\n",
      "Train step of epoch 0:  48%|████▊     | 120/250 [01:47<01:55,  1.13it/s, loss=0.851]\u001b[A\n",
      "Train step of epoch 0:  48%|████▊     | 121/250 [01:48<01:54,  1.13it/s, loss=0.851]\u001b[A\n",
      "Train step of epoch 0:  48%|████▊     | 121/250 [01:48<01:54,  1.13it/s, loss=0.682]\u001b[A\n",
      "Train step of epoch 0:  49%|████▉     | 122/250 [01:49<01:53,  1.13it/s, loss=0.682]\u001b[A\n",
      "Train step of epoch 0:  49%|████▉     | 122/250 [01:49<01:53,  1.13it/s, loss=0.701]\u001b[A\n",
      "Train step of epoch 0:  49%|████▉     | 123/250 [01:49<01:52,  1.13it/s, loss=0.701]\u001b[A\n",
      "Train step of epoch 0:  49%|████▉     | 123/250 [01:49<01:52,  1.13it/s, loss=0.598]\u001b[A\n",
      "Train step of epoch 0:  50%|████▉     | 124/250 [01:50<01:51,  1.13it/s, loss=0.598]\u001b[A\n",
      "Train step of epoch 0:  50%|████▉     | 124/250 [01:50<01:51,  1.13it/s, loss=0.891]\u001b[A\n",
      "Train step of epoch 0:  50%|█████     | 125/250 [01:51<01:51,  1.12it/s, loss=0.891]\u001b[A\n",
      "Train step of epoch 0:  50%|█████     | 125/250 [01:51<01:51,  1.12it/s, loss=0.781]\u001b[A\n",
      "Train step of epoch 0:  50%|█████     | 126/250 [01:52<01:50,  1.12it/s, loss=0.781]\u001b[A\n",
      "Train step of epoch 0:  50%|█████     | 126/250 [01:52<01:50,  1.12it/s, loss=0.626]\u001b[A\n",
      "Train step of epoch 0:  51%|█████     | 127/250 [01:53<01:49,  1.12it/s, loss=0.626]\u001b[A\n",
      "Train step of epoch 0:  51%|█████     | 127/250 [01:53<01:49,  1.12it/s, loss=0.649]\u001b[A\n",
      "Train step of epoch 0:  51%|█████     | 128/250 [01:54<01:48,  1.12it/s, loss=0.649]\u001b[A\n",
      "Train step of epoch 0:  51%|█████     | 128/250 [01:54<01:48,  1.12it/s, loss=0.658]\u001b[A\n",
      "Train step of epoch 0:  52%|█████▏    | 129/250 [01:55<01:47,  1.12it/s, loss=0.658]\u001b[A\n",
      "Train step of epoch 0:  52%|█████▏    | 129/250 [01:55<01:47,  1.12it/s, loss=0.585]\u001b[A\n",
      "Train step of epoch 0:  52%|█████▏    | 130/250 [01:56<01:46,  1.12it/s, loss=0.585]\u001b[A\n",
      "Train step of epoch 0:  52%|█████▏    | 130/250 [01:56<01:46,  1.12it/s, loss=0.555]\u001b[A\n",
      "Train step of epoch 0:  52%|█████▏    | 131/250 [01:57<01:45,  1.12it/s, loss=0.555]\u001b[A\n",
      "Train step of epoch 0:  52%|█████▏    | 131/250 [01:57<01:45,  1.12it/s, loss=0.846]\u001b[A\n",
      "Train step of epoch 0:  53%|█████▎    | 132/250 [01:57<01:45,  1.12it/s, loss=0.846]\u001b[A\n",
      "Train step of epoch 0:  53%|█████▎    | 132/250 [01:57<01:45,  1.12it/s, loss=0.509]\u001b[A\n",
      "Train step of epoch 0:  53%|█████▎    | 133/250 [01:58<01:44,  1.12it/s, loss=0.509]\u001b[A\n",
      "Train step of epoch 0:  53%|█████▎    | 133/250 [01:58<01:44,  1.12it/s, loss=0.775]\u001b[A\n",
      "Train step of epoch 0:  54%|█████▎    | 134/250 [01:59<01:43,  1.12it/s, loss=0.775]\u001b[A\n",
      "Train step of epoch 0:  54%|█████▎    | 134/250 [01:59<01:43,  1.12it/s, loss=0.671]\u001b[A\n",
      "Train step of epoch 0:  54%|█████▍    | 135/250 [02:00<01:42,  1.12it/s, loss=0.671]\u001b[A\n",
      "Train step of epoch 0:  54%|█████▍    | 135/250 [02:00<01:42,  1.12it/s, loss=0.689]\u001b[A\n",
      "Train step of epoch 0:  54%|█████▍    | 136/250 [02:01<01:41,  1.12it/s, loss=0.689]\u001b[A\n",
      "Train step of epoch 0:  54%|█████▍    | 136/250 [02:01<01:41,  1.12it/s, loss=0.67] \u001b[A\n",
      "Train step of epoch 0:  55%|█████▍    | 137/250 [02:02<01:40,  1.12it/s, loss=0.67]\u001b[A\n",
      "Train step of epoch 0:  55%|█████▍    | 137/250 [02:02<01:40,  1.12it/s, loss=0.504]\u001b[A\n",
      "Train step of epoch 0:  55%|█████▌    | 138/250 [02:03<01:39,  1.12it/s, loss=0.504]\u001b[A\n",
      "Train step of epoch 0:  55%|█████▌    | 138/250 [02:03<01:39,  1.12it/s, loss=0.75] \u001b[A\n",
      "Train step of epoch 0:  56%|█████▌    | 139/250 [02:04<01:38,  1.12it/s, loss=0.75]\u001b[A\n",
      "Train step of epoch 0:  56%|█████▌    | 139/250 [02:04<01:38,  1.12it/s, loss=0.495]\u001b[A\n",
      "Train step of epoch 0:  56%|█████▌    | 140/250 [02:05<01:38,  1.12it/s, loss=0.495]\u001b[A\n",
      "Train step of epoch 0:  56%|█████▌    | 140/250 [02:05<01:38,  1.12it/s, loss=0.464]\u001b[A\n"
     ]
    },
    {
     "name": "stderr",
     "output_type": "stream",
     "text": [
      "Train step of epoch 0:  56%|█████▋    | 141/250 [02:05<01:37,  1.12it/s, loss=0.464]\u001b[A\n",
      "Train step of epoch 0:  56%|█████▋    | 141/250 [02:05<01:37,  1.12it/s, loss=0.608]\u001b[A\n",
      "Train step of epoch 0:  57%|█████▋    | 142/250 [02:06<01:36,  1.12it/s, loss=0.608]\u001b[A\n",
      "Train step of epoch 0:  57%|█████▋    | 142/250 [02:06<01:36,  1.12it/s, loss=0.877]\u001b[A\n",
      "Train step of epoch 0:  57%|█████▋    | 143/250 [02:07<01:35,  1.12it/s, loss=0.877]\u001b[A\n",
      "Train step of epoch 0:  57%|█████▋    | 143/250 [02:07<01:35,  1.12it/s, loss=0.534]\u001b[A\n",
      "Train step of epoch 0:  58%|█████▊    | 144/250 [02:08<01:34,  1.12it/s, loss=0.534]\u001b[A\n",
      "Train step of epoch 0:  58%|█████▊    | 144/250 [02:08<01:34,  1.12it/s, loss=0.548]\u001b[A\n",
      "Train step of epoch 0:  58%|█████▊    | 145/250 [02:09<01:33,  1.12it/s, loss=0.548]\u001b[A\n",
      "Train step of epoch 0:  58%|█████▊    | 145/250 [02:09<01:33,  1.12it/s, loss=0.62] \u001b[A\n",
      "Train step of epoch 0:  58%|█████▊    | 146/250 [02:10<01:32,  1.12it/s, loss=0.62]\u001b[A\n",
      "Train step of epoch 0:  58%|█████▊    | 146/250 [02:10<01:32,  1.12it/s, loss=0.605]\u001b[A\n",
      "Train step of epoch 0:  59%|█████▉    | 147/250 [02:11<01:31,  1.12it/s, loss=0.605]\u001b[A\n",
      "Train step of epoch 0:  59%|█████▉    | 147/250 [02:11<01:31,  1.12it/s, loss=0.366]\u001b[A\n",
      "Train step of epoch 0:  59%|█████▉    | 148/250 [02:12<01:31,  1.12it/s, loss=0.366]\u001b[A\n",
      "Train step of epoch 0:  59%|█████▉    | 148/250 [02:12<01:31,  1.12it/s, loss=0.698]\u001b[A\n",
      "Train step of epoch 0:  60%|█████▉    | 149/250 [02:13<01:30,  1.12it/s, loss=0.698]\u001b[A\n",
      "Train step of epoch 0:  60%|█████▉    | 149/250 [02:13<01:30,  1.12it/s, loss=0.712]\u001b[A\n",
      "Train step of epoch 0:  60%|██████    | 150/250 [02:13<01:29,  1.12it/s, loss=0.712]\u001b[A\n",
      "Train step of epoch 0:  60%|██████    | 150/250 [02:13<01:29,  1.12it/s, loss=0.598]\u001b[A\n",
      "Train step of epoch 0:  60%|██████    | 151/250 [02:14<01:28,  1.12it/s, loss=0.598]\u001b[A\n",
      "Train step of epoch 0:  60%|██████    | 151/250 [02:14<01:28,  1.12it/s, loss=0.222]\u001b[A\n",
      "Train step of epoch 0:  61%|██████    | 152/250 [02:15<01:27,  1.12it/s, loss=0.222]\u001b[A\n",
      "Train step of epoch 0:  61%|██████    | 152/250 [02:15<01:27,  1.12it/s, loss=0.44] \u001b[A\n",
      "Train step of epoch 0:  61%|██████    | 153/250 [02:16<01:26,  1.12it/s, loss=0.44]\u001b[A\n",
      "Train step of epoch 0:  61%|██████    | 153/250 [02:16<01:26,  1.12it/s, loss=0.625]\u001b[A\n",
      "Train step of epoch 0:  62%|██████▏   | 154/250 [02:17<01:25,  1.12it/s, loss=0.625]\u001b[A\n",
      "Train step of epoch 0:  62%|██████▏   | 154/250 [02:17<01:25,  1.12it/s, loss=1.01] \u001b[A\n",
      "Train step of epoch 0:  62%|██████▏   | 155/250 [02:18<01:24,  1.12it/s, loss=1.01]\u001b[A\n",
      "Train step of epoch 0:  62%|██████▏   | 155/250 [02:18<01:24,  1.12it/s, loss=1.14]\u001b[A\n",
      "Train step of epoch 0:  62%|██████▏   | 156/250 [02:19<01:23,  1.12it/s, loss=1.14]\u001b[A\n",
      "Train step of epoch 0:  62%|██████▏   | 156/250 [02:19<01:23,  1.12it/s, loss=0.459]\u001b[A\n",
      "Train step of epoch 0:  63%|██████▎   | 157/250 [02:20<01:23,  1.12it/s, loss=0.459]\u001b[A\n",
      "Train step of epoch 0:  63%|██████▎   | 157/250 [02:20<01:23,  1.12it/s, loss=0.479]\u001b[A\n",
      "Train step of epoch 0:  63%|██████▎   | 158/250 [02:21<01:22,  1.12it/s, loss=0.479]\u001b[A\n",
      "Train step of epoch 0:  63%|██████▎   | 158/250 [02:21<01:22,  1.12it/s, loss=0.661]\u001b[A\n",
      "Train step of epoch 0:  64%|██████▎   | 159/250 [02:22<01:21,  1.12it/s, loss=0.661]\u001b[A\n",
      "Train step of epoch 0:  64%|██████▎   | 159/250 [02:22<01:21,  1.12it/s, loss=0.71] \u001b[A\n",
      "Train step of epoch 0:  64%|██████▍   | 160/250 [02:22<01:20,  1.12it/s, loss=0.71]\u001b[A\n",
      "Train step of epoch 0:  64%|██████▍   | 160/250 [02:22<01:20,  1.12it/s, loss=0.529]\u001b[A\n",
      "Train step of epoch 0:  64%|██████▍   | 161/250 [02:23<01:19,  1.12it/s, loss=0.529]\u001b[A\n",
      "Train step of epoch 0:  64%|██████▍   | 161/250 [02:23<01:19,  1.12it/s, loss=0.655]\u001b[A\n",
      "Train step of epoch 0:  65%|██████▍   | 162/250 [02:24<01:18,  1.12it/s, loss=0.655]\u001b[A\n",
      "Train step of epoch 0:  65%|██████▍   | 162/250 [02:24<01:18,  1.12it/s, loss=0.55] \u001b[A\n",
      "Train step of epoch 0:  65%|██████▌   | 163/250 [02:25<01:17,  1.12it/s, loss=0.55]\u001b[A\n",
      "Train step of epoch 0:  65%|██████▌   | 163/250 [02:25<01:17,  1.12it/s, loss=0.493]\u001b[A\n",
      "Train step of epoch 0:  66%|██████▌   | 164/250 [02:26<01:16,  1.12it/s, loss=0.493]\u001b[A\n",
      "Train step of epoch 0:  66%|██████▌   | 164/250 [02:26<01:16,  1.12it/s, loss=0.634]\u001b[A\n",
      "Train step of epoch 0:  66%|██████▌   | 165/250 [02:27<01:15,  1.12it/s, loss=0.634]\u001b[A\n",
      "Train step of epoch 0:  66%|██████▌   | 165/250 [02:27<01:15,  1.12it/s, loss=0.862]\u001b[A\n",
      "Train step of epoch 0:  66%|██████▋   | 166/250 [02:28<01:14,  1.12it/s, loss=0.862]\u001b[A\n",
      "Train step of epoch 0:  66%|██████▋   | 166/250 [02:28<01:14,  1.12it/s, loss=0.376]\u001b[A\n",
      "Train step of epoch 0:  67%|██████▋   | 167/250 [02:29<01:13,  1.12it/s, loss=0.376]\u001b[A\n",
      "Train step of epoch 0:  67%|██████▋   | 167/250 [02:29<01:13,  1.12it/s, loss=0.433]\u001b[A\n",
      "Train step of epoch 0:  67%|██████▋   | 168/250 [02:30<01:13,  1.12it/s, loss=0.433]\u001b[A\n",
      "Train step of epoch 0:  67%|██████▋   | 168/250 [02:30<01:13,  1.12it/s, loss=0.509]\u001b[A\n",
      "Train step of epoch 0:  68%|██████▊   | 169/250 [02:30<01:12,  1.12it/s, loss=0.509]\u001b[A\n",
      "Train step of epoch 0:  68%|██████▊   | 169/250 [02:30<01:12,  1.12it/s, loss=0.454]\u001b[A\n",
      "Train step of epoch 0:  68%|██████▊   | 170/250 [02:31<01:11,  1.12it/s, loss=0.454]\u001b[A\n",
      "Train step of epoch 0:  68%|██████▊   | 170/250 [02:31<01:11,  1.12it/s, loss=0.879]\u001b[A\n",
      "Train step of epoch 0:  68%|██████▊   | 171/250 [02:32<01:10,  1.12it/s, loss=0.879]\u001b[A\n",
      "Train step of epoch 0:  68%|██████▊   | 171/250 [02:32<01:10,  1.12it/s, loss=0.723]\u001b[A\n",
      "Train step of epoch 0:  69%|██████▉   | 172/250 [02:33<01:09,  1.12it/s, loss=0.723]\u001b[A\n",
      "Train step of epoch 0:  69%|██████▉   | 172/250 [02:33<01:09,  1.12it/s, loss=0.772]\u001b[A\n",
      "Train step of epoch 0:  69%|██████▉   | 173/250 [02:34<01:08,  1.12it/s, loss=0.772]\u001b[A\n",
      "Train step of epoch 0:  69%|██████▉   | 173/250 [02:34<01:08,  1.12it/s, loss=0.442]\u001b[A\n",
      "Train step of epoch 0:  70%|██████▉   | 174/250 [02:35<01:07,  1.12it/s, loss=0.442]\u001b[A\n",
      "Train step of epoch 0:  70%|██████▉   | 174/250 [02:35<01:07,  1.12it/s, loss=0.359]\u001b[A\n",
      "Train step of epoch 0:  70%|███████   | 175/250 [02:36<01:06,  1.12it/s, loss=0.359]\u001b[A\n",
      "Train step of epoch 0:  70%|███████   | 175/250 [02:36<01:06,  1.12it/s, loss=0.73] \u001b[A\n",
      "Train step of epoch 0:  70%|███████   | 176/250 [02:37<01:05,  1.12it/s, loss=0.73]\u001b[A\n",
      "Train step of epoch 0:  70%|███████   | 176/250 [02:37<01:05,  1.12it/s, loss=0.415]\u001b[A\n",
      "Train step of epoch 0:  71%|███████   | 177/250 [02:38<01:04,  1.12it/s, loss=0.415]\u001b[A\n",
      "Train step of epoch 0:  71%|███████   | 177/250 [02:38<01:04,  1.12it/s, loss=0.347]\u001b[A\n",
      "Train step of epoch 0:  71%|███████   | 178/250 [02:38<01:04,  1.12it/s, loss=0.347]\u001b[A\n",
      "Train step of epoch 0:  71%|███████   | 178/250 [02:38<01:04,  1.12it/s, loss=0.328]\u001b[A\n",
      "Train step of epoch 0:  72%|███████▏  | 179/250 [02:39<01:03,  1.12it/s, loss=0.328]\u001b[A\n",
      "Train step of epoch 0:  72%|███████▏  | 179/250 [02:39<01:03,  1.12it/s, loss=0.486]\u001b[A\n",
      "Train step of epoch 0:  72%|███████▏  | 180/250 [02:40<01:02,  1.12it/s, loss=0.486]\u001b[A\n",
      "Train step of epoch 0:  72%|███████▏  | 180/250 [02:40<01:02,  1.12it/s, loss=0.899]\u001b[A\n",
      "Train step of epoch 0:  72%|███████▏  | 181/250 [02:41<01:01,  1.12it/s, loss=0.899]\u001b[A\n",
      "Train step of epoch 0:  72%|███████▏  | 181/250 [02:41<01:01,  1.12it/s, loss=0.279]\u001b[A\n",
      "Train step of epoch 0:  73%|███████▎  | 182/250 [02:42<01:00,  1.12it/s, loss=0.279]\u001b[A\n",
      "Train step of epoch 0:  73%|███████▎  | 182/250 [02:42<01:00,  1.12it/s, loss=0.947]\u001b[A\n",
      "Train step of epoch 0:  73%|███████▎  | 183/250 [02:43<00:59,  1.12it/s, loss=0.947]\u001b[A\n",
      "Train step of epoch 0:  73%|███████▎  | 183/250 [02:43<00:59,  1.12it/s, loss=1.5]  \u001b[A\n",
      "Train step of epoch 0:  74%|███████▎  | 184/250 [02:44<00:58,  1.13it/s, loss=1.5]\u001b[A\n",
      "Train step of epoch 0:  74%|███████▎  | 184/250 [02:44<00:58,  1.13it/s, loss=0.892]\u001b[A\n",
      "Train step of epoch 0:  74%|███████▍  | 185/250 [02:45<00:57,  1.13it/s, loss=0.892]\u001b[A\n",
      "Train step of epoch 0:  74%|███████▍  | 185/250 [02:45<00:57,  1.13it/s, loss=0.543]\u001b[A\n",
      "Train step of epoch 0:  74%|███████▍  | 186/250 [02:46<00:56,  1.13it/s, loss=0.543]\u001b[A\n",
      "Train step of epoch 0:  74%|███████▍  | 186/250 [02:46<00:56,  1.13it/s, loss=0.4]  \u001b[A\n",
      "Train step of epoch 0:  75%|███████▍  | 187/250 [02:46<00:55,  1.13it/s, loss=0.4]\u001b[A\n"
     ]
    },
    {
     "name": "stderr",
     "output_type": "stream",
     "text": [
      "Train step of epoch 0:  75%|███████▍  | 187/250 [02:46<00:55,  1.13it/s, loss=0.462]\u001b[A\n",
      "Train step of epoch 0:  75%|███████▌  | 188/250 [02:47<00:55,  1.13it/s, loss=0.462]\u001b[A\n",
      "Train step of epoch 0:  75%|███████▌  | 188/250 [02:47<00:55,  1.13it/s, loss=0.597]\u001b[A\n",
      "Train step of epoch 0:  76%|███████▌  | 189/250 [02:48<00:54,  1.13it/s, loss=0.597]\u001b[A\n",
      "Train step of epoch 0:  76%|███████▌  | 189/250 [02:48<00:54,  1.13it/s, loss=0.718]\u001b[A\n",
      "Train step of epoch 0:  76%|███████▌  | 190/250 [02:49<00:53,  1.12it/s, loss=0.718]\u001b[A\n",
      "Train step of epoch 0:  76%|███████▌  | 190/250 [02:49<00:53,  1.12it/s, loss=0.481]\u001b[A\n",
      "Train step of epoch 0:  76%|███████▋  | 191/250 [02:50<00:52,  1.13it/s, loss=0.481]\u001b[A\n",
      "Train step of epoch 0:  76%|███████▋  | 191/250 [02:50<00:52,  1.13it/s, loss=0.336]\u001b[A\n",
      "Train step of epoch 0:  77%|███████▋  | 192/250 [02:51<00:51,  1.13it/s, loss=0.336]\u001b[A\n",
      "Train step of epoch 0:  77%|███████▋  | 192/250 [02:51<00:51,  1.13it/s, loss=0.492]\u001b[A\n",
      "Train step of epoch 0:  77%|███████▋  | 193/250 [02:52<00:50,  1.13it/s, loss=0.492]\u001b[A\n",
      "Train step of epoch 0:  77%|███████▋  | 193/250 [02:52<00:50,  1.13it/s, loss=0.832]\u001b[A\n",
      "Train step of epoch 0:  78%|███████▊  | 194/250 [02:53<00:49,  1.13it/s, loss=0.832]\u001b[A\n",
      "Train step of epoch 0:  78%|███████▊  | 194/250 [02:53<00:49,  1.13it/s, loss=0.661]\u001b[A\n",
      "Train step of epoch 0:  78%|███████▊  | 195/250 [02:54<00:48,  1.13it/s, loss=0.661]\u001b[A\n",
      "Train step of epoch 0:  78%|███████▊  | 195/250 [02:54<00:48,  1.13it/s, loss=0.414]\u001b[A\n",
      "Train step of epoch 0:  78%|███████▊  | 196/250 [02:54<00:47,  1.13it/s, loss=0.414]\u001b[A\n",
      "Train step of epoch 0:  78%|███████▊  | 196/250 [02:54<00:47,  1.13it/s, loss=0.994]\u001b[A\n",
      "Train step of epoch 0:  79%|███████▉  | 197/250 [02:55<00:46,  1.13it/s, loss=0.994]\u001b[A\n",
      "Train step of epoch 0:  79%|███████▉  | 197/250 [02:55<00:46,  1.13it/s, loss=0.627]\u001b[A\n",
      "Train step of epoch 0:  79%|███████▉  | 198/250 [02:56<00:46,  1.13it/s, loss=0.627]\u001b[A\n",
      "Train step of epoch 0:  79%|███████▉  | 198/250 [02:56<00:46,  1.13it/s, loss=0.54] \u001b[A\n",
      "Train step of epoch 0:  80%|███████▉  | 199/250 [02:57<00:45,  1.13it/s, loss=0.54]\u001b[A\n",
      "Train step of epoch 0:  80%|███████▉  | 199/250 [02:57<00:45,  1.13it/s, loss=0.439]\u001b[A\n",
      "Train step of epoch 0:  80%|████████  | 200/250 [02:58<00:44,  1.13it/s, loss=0.439]\u001b[A\n",
      "Train step of epoch 0:  80%|████████  | 200/250 [02:58<00:44,  1.13it/s, loss=0.504]\u001b[A\n",
      "Train step of epoch 0:  80%|████████  | 201/250 [02:59<00:43,  1.13it/s, loss=0.504]\u001b[A\n",
      "Train step of epoch 0:  80%|████████  | 201/250 [02:59<00:43,  1.13it/s, loss=0.479]\u001b[A\n",
      "Train step of epoch 0:  81%|████████  | 202/250 [03:00<00:42,  1.13it/s, loss=0.479]\u001b[A\n",
      "Train step of epoch 0:  81%|████████  | 202/250 [03:00<00:42,  1.13it/s, loss=0.781]\u001b[A\n",
      "Train step of epoch 0:  81%|████████  | 203/250 [03:01<00:41,  1.13it/s, loss=0.781]\u001b[A\n",
      "Train step of epoch 0:  81%|████████  | 203/250 [03:01<00:41,  1.13it/s, loss=0.597]\u001b[A\n",
      "Train step of epoch 0:  82%|████████▏ | 204/250 [03:02<00:40,  1.13it/s, loss=0.597]\u001b[A\n",
      "Train step of epoch 0:  82%|████████▏ | 204/250 [03:02<00:40,  1.13it/s, loss=0.543]\u001b[A\n",
      "Train step of epoch 0:  82%|████████▏ | 205/250 [03:02<00:39,  1.13it/s, loss=0.543]\u001b[A\n",
      "Train step of epoch 0:  82%|████████▏ | 205/250 [03:02<00:39,  1.13it/s, loss=0.584]\u001b[A\n",
      "Train step of epoch 0:  82%|████████▏ | 206/250 [03:03<00:39,  1.13it/s, loss=0.584]\u001b[A\n",
      "Train step of epoch 0:  82%|████████▏ | 206/250 [03:03<00:39,  1.13it/s, loss=0.746]\u001b[A\n",
      "Train step of epoch 0:  83%|████████▎ | 207/250 [03:04<00:38,  1.13it/s, loss=0.746]\u001b[A\n",
      "Train step of epoch 0:  83%|████████▎ | 207/250 [03:04<00:38,  1.13it/s, loss=0.531]\u001b[A\n",
      "Train step of epoch 0:  83%|████████▎ | 208/250 [03:05<00:37,  1.13it/s, loss=0.531]\u001b[A\n",
      "Train step of epoch 0:  83%|████████▎ | 208/250 [03:05<00:37,  1.13it/s, loss=0.618]\u001b[A\n",
      "Train step of epoch 0:  84%|████████▎ | 209/250 [03:06<00:36,  1.13it/s, loss=0.618]\u001b[A\n",
      "Train step of epoch 0:  84%|████████▎ | 209/250 [03:06<00:36,  1.13it/s, loss=0.691]\u001b[A\n",
      "Train step of epoch 0:  84%|████████▍ | 210/250 [03:07<00:35,  1.13it/s, loss=0.691]\u001b[A\n",
      "Train step of epoch 0:  84%|████████▍ | 210/250 [03:07<00:35,  1.13it/s, loss=0.752]\u001b[A\n",
      "Train step of epoch 0:  84%|████████▍ | 211/250 [03:08<00:34,  1.13it/s, loss=0.752]\u001b[A\n",
      "Train step of epoch 0:  84%|████████▍ | 211/250 [03:08<00:34,  1.13it/s, loss=0.384]\u001b[A\n",
      "Train step of epoch 0:  85%|████████▍ | 212/250 [03:09<00:33,  1.13it/s, loss=0.384]\u001b[A\n",
      "Train step of epoch 0:  85%|████████▍ | 212/250 [03:09<00:33,  1.13it/s, loss=0.585]\u001b[A\n",
      "Train step of epoch 0:  85%|████████▌ | 213/250 [03:09<00:32,  1.13it/s, loss=0.585]\u001b[A\n",
      "Train step of epoch 0:  85%|████████▌ | 213/250 [03:10<00:32,  1.13it/s, loss=0.405]\u001b[A\n",
      "Train step of epoch 0:  86%|████████▌ | 214/250 [03:10<00:31,  1.13it/s, loss=0.405]\u001b[A\n",
      "Train step of epoch 0:  86%|████████▌ | 214/250 [03:10<00:31,  1.13it/s, loss=1.2]  \u001b[A\n",
      "Train step of epoch 0:  86%|████████▌ | 215/250 [03:11<00:31,  1.12it/s, loss=1.2]\u001b[A\n",
      "Train step of epoch 0:  86%|████████▌ | 215/250 [03:11<00:31,  1.12it/s, loss=0.522]\u001b[A\n",
      "Train step of epoch 0:  86%|████████▋ | 216/250 [03:12<00:30,  1.12it/s, loss=0.522]\u001b[A\n",
      "Train step of epoch 0:  86%|████████▋ | 216/250 [03:12<00:30,  1.12it/s, loss=0.826]\u001b[A\n",
      "Train step of epoch 0:  87%|████████▋ | 217/250 [03:13<00:29,  1.12it/s, loss=0.826]\u001b[A\n",
      "Train step of epoch 0:  87%|████████▋ | 217/250 [03:13<00:29,  1.12it/s, loss=0.856]\u001b[A\n",
      "Train step of epoch 0:  87%|████████▋ | 218/250 [03:14<00:28,  1.12it/s, loss=0.856]\u001b[A\n",
      "Train step of epoch 0:  87%|████████▋ | 218/250 [03:14<00:28,  1.12it/s, loss=0.563]\u001b[A\n",
      "Train step of epoch 0:  88%|████████▊ | 219/250 [03:15<00:27,  1.13it/s, loss=0.563]\u001b[A\n",
      "Train step of epoch 0:  88%|████████▊ | 219/250 [03:15<00:27,  1.13it/s, loss=0.368]\u001b[A\n",
      "Train step of epoch 0:  88%|████████▊ | 220/250 [03:16<00:26,  1.13it/s, loss=0.368]\u001b[A\n",
      "Train step of epoch 0:  88%|████████▊ | 220/250 [03:16<00:26,  1.13it/s, loss=0.694]\u001b[A\n",
      "Train step of epoch 0:  88%|████████▊ | 221/250 [03:17<00:25,  1.12it/s, loss=0.694]\u001b[A\n",
      "Train step of epoch 0:  88%|████████▊ | 221/250 [03:17<00:25,  1.12it/s, loss=0.665]\u001b[A\n",
      "Train step of epoch 0:  89%|████████▉ | 222/250 [03:17<00:24,  1.12it/s, loss=0.665]\u001b[A\n",
      "Train step of epoch 0:  89%|████████▉ | 222/250 [03:18<00:24,  1.12it/s, loss=0.35] \u001b[A\n",
      "Train step of epoch 0:  89%|████████▉ | 223/250 [03:18<00:23,  1.13it/s, loss=0.35]\u001b[A\n",
      "Train step of epoch 0:  89%|████████▉ | 223/250 [03:18<00:23,  1.13it/s, loss=0.677]\u001b[A\n",
      "Train step of epoch 0:  90%|████████▉ | 224/250 [03:19<00:23,  1.13it/s, loss=0.677]\u001b[A\n",
      "Train step of epoch 0:  90%|████████▉ | 224/250 [03:19<00:23,  1.13it/s, loss=0.77] \u001b[A\n",
      "Train step of epoch 0:  90%|█████████ | 225/250 [03:20<00:22,  1.13it/s, loss=0.77]\u001b[A\n",
      "Train step of epoch 0:  90%|█████████ | 225/250 [03:20<00:22,  1.13it/s, loss=0.621]\u001b[A\n",
      "Train step of epoch 0:  90%|█████████ | 226/250 [03:21<00:21,  1.13it/s, loss=0.621]\u001b[A\n",
      "Train step of epoch 0:  90%|█████████ | 226/250 [03:21<00:21,  1.13it/s, loss=0.646]\u001b[A\n",
      "Train step of epoch 0:  91%|█████████ | 227/250 [03:22<00:20,  1.13it/s, loss=0.646]\u001b[A\n",
      "Train step of epoch 0:  91%|█████████ | 227/250 [03:22<00:20,  1.13it/s, loss=0.718]\u001b[A\n",
      "Train step of epoch 0:  91%|█████████ | 228/250 [03:23<00:19,  1.12it/s, loss=0.718]\u001b[A\n",
      "Train step of epoch 0:  91%|█████████ | 228/250 [03:23<00:19,  1.12it/s, loss=0.465]\u001b[A\n",
      "Train step of epoch 0:  92%|█████████▏| 229/250 [03:24<00:18,  1.12it/s, loss=0.465]\u001b[A\n",
      "Train step of epoch 0:  92%|█████████▏| 229/250 [03:24<00:18,  1.12it/s, loss=0.674]\u001b[A\n",
      "Train step of epoch 0:  92%|█████████▏| 230/250 [03:25<00:17,  1.12it/s, loss=0.674]\u001b[A\n",
      "Train step of epoch 0:  92%|█████████▏| 230/250 [03:25<00:17,  1.12it/s, loss=0.672]\u001b[A\n",
      "Train step of epoch 0:  92%|█████████▏| 231/250 [03:25<00:16,  1.12it/s, loss=0.672]\u001b[A\n",
      "Train step of epoch 0:  92%|█████████▏| 231/250 [03:26<00:16,  1.12it/s, loss=0.4]  \u001b[A\n",
      "Train step of epoch 0:  93%|█████████▎| 232/250 [03:26<00:16,  1.12it/s, loss=0.4]\u001b[A\n",
      "Train step of epoch 0:  93%|█████████▎| 232/250 [03:26<00:16,  1.12it/s, loss=0.81]\u001b[A\n",
      "Train step of epoch 0:  93%|█████████▎| 233/250 [03:27<00:15,  1.12it/s, loss=0.81]\u001b[A\n",
      "Train step of epoch 0:  93%|█████████▎| 233/250 [03:27<00:15,  1.12it/s, loss=0.436]\u001b[A\n"
     ]
    },
    {
     "name": "stderr",
     "output_type": "stream",
     "text": [
      "Train step of epoch 0:  94%|█████████▎| 234/250 [03:28<00:14,  1.12it/s, loss=0.436]\u001b[A\n",
      "Train step of epoch 0:  94%|█████████▎| 234/250 [03:28<00:14,  1.12it/s, loss=0.553]\u001b[A\n",
      "Train step of epoch 0:  94%|█████████▍| 235/250 [03:29<00:13,  1.13it/s, loss=0.553]\u001b[A\n",
      "Train step of epoch 0:  94%|█████████▍| 235/250 [03:29<00:13,  1.13it/s, loss=0.948]\u001b[A\n",
      "Train step of epoch 0:  94%|█████████▍| 236/250 [03:30<00:12,  1.13it/s, loss=0.948]\u001b[A\n",
      "Train step of epoch 0:  94%|█████████▍| 236/250 [03:30<00:12,  1.13it/s, loss=0.506]\u001b[A\n",
      "Train step of epoch 0:  95%|█████████▍| 237/250 [03:31<00:11,  1.12it/s, loss=0.506]\u001b[A\n",
      "Train step of epoch 0:  95%|█████████▍| 237/250 [03:31<00:11,  1.12it/s, loss=0.554]\u001b[A\n",
      "Train step of epoch 0:  95%|█████████▌| 238/250 [03:32<00:10,  1.12it/s, loss=0.554]\u001b[A\n",
      "Train step of epoch 0:  95%|█████████▌| 238/250 [03:32<00:10,  1.12it/s, loss=0.715]\u001b[A\n",
      "Train step of epoch 0:  96%|█████████▌| 239/250 [03:33<00:09,  1.12it/s, loss=0.715]\u001b[A\n",
      "Train step of epoch 0:  96%|█████████▌| 239/250 [03:33<00:09,  1.12it/s, loss=0.717]\u001b[A\n",
      "Train step of epoch 0:  96%|█████████▌| 240/250 [03:34<00:08,  1.12it/s, loss=0.717]\u001b[A\n",
      "Train step of epoch 0:  96%|█████████▌| 240/250 [03:34<00:08,  1.12it/s, loss=0.622]\u001b[A\n",
      "Train step of epoch 0:  96%|█████████▋| 241/250 [03:34<00:08,  1.12it/s, loss=0.622]\u001b[A\n",
      "Train step of epoch 0:  96%|█████████▋| 241/250 [03:34<00:08,  1.12it/s, loss=0.517]\u001b[A\n",
      "Train step of epoch 0:  97%|█████████▋| 242/250 [03:35<00:07,  1.12it/s, loss=0.517]\u001b[A\n",
      "Train step of epoch 0:  97%|█████████▋| 242/250 [03:35<00:07,  1.12it/s, loss=0.806]\u001b[A\n",
      "Train step of epoch 0:  97%|█████████▋| 243/250 [03:36<00:06,  1.12it/s, loss=0.806]\u001b[A\n",
      "Train step of epoch 0:  97%|█████████▋| 243/250 [03:36<00:06,  1.12it/s, loss=0.486]\u001b[A\n",
      "Train step of epoch 0:  98%|█████████▊| 244/250 [03:37<00:05,  1.12it/s, loss=0.486]\u001b[A\n",
      "Train step of epoch 0:  98%|█████████▊| 244/250 [03:37<00:05,  1.12it/s, loss=0.662]\u001b[A\n",
      "Train step of epoch 0:  98%|█████████▊| 245/250 [03:38<00:04,  1.12it/s, loss=0.662]\u001b[A\n",
      "Train step of epoch 0:  98%|█████████▊| 245/250 [03:38<00:04,  1.12it/s, loss=0.85] \u001b[A\n",
      "Train step of epoch 0:  98%|█████████▊| 246/250 [03:39<00:03,  1.12it/s, loss=0.85]\u001b[A\n",
      "Train step of epoch 0:  98%|█████████▊| 246/250 [03:39<00:03,  1.12it/s, loss=0.851]\u001b[A\n",
      "Train step of epoch 0:  99%|█████████▉| 247/250 [03:40<00:02,  1.12it/s, loss=0.851]\u001b[A\n",
      "Train step of epoch 0:  99%|█████████▉| 247/250 [03:40<00:02,  1.12it/s, loss=0.36] \u001b[A\n",
      "Train step of epoch 0:  99%|█████████▉| 248/250 [03:41<00:01,  1.12it/s, loss=0.36]\u001b[A\n",
      "Train step of epoch 0:  99%|█████████▉| 248/250 [03:41<00:01,  1.12it/s, loss=1.3] \u001b[A\n",
      "Train step of epoch 0: 100%|█████████▉| 249/250 [03:42<00:00,  1.12it/s, loss=1.3]\u001b[A\n",
      "Train step of epoch 0: 100%|█████████▉| 249/250 [03:42<00:00,  1.12it/s, loss=0.61]\u001b[A\n",
      "Train step of epoch 0: 100%|██████████| 250/250 [03:42<00:00,  1.12it/s, loss=0.61]\u001b[A\n",
      "Train epoch: 100%|██████████| 1/1 [03:57<00:00, 237.50s/it]0,  1.12it/s, loss=0.438]\u001b[A\n",
      "Train step of epoch 0: 100%|██████████| 250/250 [03:57<00:00,  1.05it/s, loss=0.615, dist_mean=0.32]\u001b[A\n",
      "Train epoch: 100%|██████████| 1/1 [03:57<00:00, 237.50s/it]\n"
     ]
    }
   ],
   "source": [
    "#일단 lora 안씀\n",
    "trainer.fit(use_lora=0)\n",
    "model.save_pretrained('./KoChatGPT/output_2_RM')"
   ]
  },
  {
   "cell_type": "code",
   "execution_count": 10,
   "id": "4eb9f9ec",
   "metadata": {},
   "outputs": [
    {
     "name": "stdout",
     "output_type": "stream",
     "text": [
      "input: 인공지능은 똥멍청이 입니다\n",
      "reward score: -2.3\n"
     ]
    }
   ],
   "source": [
    "def inference_RM(input_text):\n",
    "    input_ids = tokenizer.encode(input_text, return_tensors='pt').to(\n",
    "        torch.cuda.current_device())  #인풋 먼저 토큰화해서\n",
    "    output = model(input_ids) #그걸 모델에 넣고 뱉게 한다. \n",
    "    output_reward = output.cpu().detach().numpy()[0] #여기서 첫번째 요소가 reward값\n",
    "\n",
    "    print('input: %s\\nreward score: %.1f'%(input_text, output_reward))\n",
    "\n",
    "    return output_reward\n",
    "\n",
    "input_text = '인공지능은 똥멍청이 입니다'\n",
    "output_reward = inference_RM(input_text=input_text)"
   ]
  },
  {
   "cell_type": "code",
   "execution_count": 11,
   "id": "d2a059dc",
   "metadata": {},
   "outputs": [
    {
     "name": "stdout",
     "output_type": "stream",
     "text": [
      "input: 인공지능(AI)은 컴퓨터에서 음성 및 작성된 언어를 보고 이해하고 번역하고 데이터를 분석하고 추천하는 기능을 포함하여 다양한 고급 기능을 수행할 수 있는 일련의 기술입니다.\n",
      "reward score: -2.3\n"
     ]
    }
   ],
   "source": [
    "input_text = '인공지능(AI)은 컴퓨터에서 음성 및 작성된 언어를 보고 이해하고 번역하고 데이터를 분석하고 추천하는 기능을 포함하여 다양한 고급 기능을 수행할 수 있는 일련의 기술입니다.'\n",
    "\n",
    "output_reward = inference_RM(input_text=input_text)"
   ]
  },
  {
   "cell_type": "code",
   "execution_count": 12,
   "id": "48f5ae0f",
   "metadata": {},
   "outputs": [
    {
     "name": "stdout",
     "output_type": "stream",
     "text": [
      "input: 인공지능(AI)은 컴퓨터에서 음성 및 작성된 언어를 보고 이해하고 번역하고 데이터를 분석하고 추천하는 기능을 포함하여 다양한 고급 기능을 수행할 수 있는 일련의 기술입니다. AI는 현대적인 컴퓨팅 혁신에서 중추적인 역할을 하며 개인과 비즈니스의 가치를 창출합니다. 예를 들어 광학 문자 인식(OCR)은 AI를 사용해 이미지 및 문서에서 텍스트 및 데이터를 추출하고, 구조화되지 않은 콘텐츠를 비즈니스에 바로 사용할 수 있게 만들고, 유용한 정보를 창출합니다.\n",
      "reward score: -2.1\n"
     ]
    }
   ],
   "source": [
    "input_text = \"인공지능(AI)은 컴퓨터에서 음성 및 작성된 언어를 보고 이해하고 번역하고 데이터를 분석하고 추천하는 기능을 포함하여 다양한 고급 기능을 수행할 수 있는 일련의 기술입니다. AI는 현대적인 컴퓨팅 혁신에서 중추적인 역할을 하며 개인과 비즈니스의 가치를 창출합니다. 예를 들어 광학 문자 인식(OCR)은 AI를 사용해 이미지 및 문서에서 텍스트 및 데이터를 추출하고, 구조화되지 않은 콘텐츠를 비즈니스에 바로 사용할 수 있게 만들고, 유용한 정보를 창출합니다.\"\n",
    "\n",
    "output_reward = inference_RM(input_text=input_text)"
   ]
  },
  {
   "cell_type": "code",
   "execution_count": 13,
   "id": "feef217b",
   "metadata": {},
   "outputs": [
    {
     "name": "stdout",
     "output_type": "stream",
     "text": [
      "input: 인공지능은 일반적으로 인간의 지능이 필요하거나 인간이 분석할 수 있는 것보다 규모가 큰 데이터를 포함하는 방식으로 추론, 학습 및 행동할 수 있는 컴퓨터 및 기계를 구축하는 것과 관련된 과학 분야입니다. AI는 컴퓨터 공학, 데이터 분석 및 통계, 하드웨어 및 소프트웨어 엔지니어링, 언어학, 신경 과학은 물론 철학과 심리학을 포함하여 여러 학문을 포괄하는 광범위한 분야입니다. 비즈니스의 운영 수준에서 AI는 주로 머신러닝과 딥 러닝을 기반으로 하는 기술 모음으로, 데이터 분석, 예상 및 예측, 객체 분류, 자연어 처리, 추천, 지능형 데이터 가져오기 등을 수행할 수 있습니다.\n",
      "reward score: -2.0\n"
     ]
    }
   ],
   "source": [
    "input_text = \"인공지능은 일반적으로 인간의 지능이 필요하거나 인간이 분석할 수 있는 것보다 규모가 큰 데이터를 포함하는 방식으로 추론, 학습 및 행동할 수 있는 컴퓨터 및 기계를 구축하는 것과 관련된 과학 분야입니다. AI는 컴퓨터 공학, 데이터 분석 및 통계, 하드웨어 및 소프트웨어 엔지니어링, 언어학, 신경 과학은 물론 철학과 심리학을 포함하여 여러 학문을 포괄하는 광범위한 분야입니다. 비즈니스의 운영 수준에서 AI는 주로 머신러닝과 딥 러닝을 기반으로 하는 기술 모음으로, 데이터 분석, 예상 및 예측, 객체 분류, 자연어 처리, 추천, 지능형 데이터 가져오기 등을 수행할 수 있습니다.\"\n",
    "\n",
    "output_reward = inference_RM(input_text=input_text)"
   ]
  },
  {
   "cell_type": "code",
   "execution_count": 15,
   "id": "2ce5070b",
   "metadata": {},
   "outputs": [],
   "source": [
    "torch.cuda.empty_cache()"
   ]
  },
  {
   "cell_type": "markdown",
   "id": "95a4a6c7",
   "metadata": {},
   "source": [
    "# PPO"
   ]
  },
  {
   "cell_type": "code",
   "execution_count": 16,
   "id": "f875a641",
   "metadata": {},
   "outputs": [],
   "source": [
    "from copy import deepcopy\n",
    "\n",
    "import torch\n",
    "from torch.optim import Adam\n",
    "from chatgpt.models.base import RewardModel\n",
    "from chatgpt.models.gpt import GPTActor, GPTCritic\n",
    "from chatgpt.trainer import PPOTrainer\n",
    "from chatgpt.trainer.strategies import NaiveStrategy\n",
    "from transformers import AutoTokenizer"
   ]
  },
  {
   "attachments": {
    "image.png": {
     "image/png": "[encoded data removed]"
    }
   },
   "cell_type": "markdown",
   "id": "677191d8",
   "metadata": {},
   "source": [
    "![image.png](attachment:image.png)"
   ]
  },
  {
   "cell_type": "code",
   "execution_count": 18,
   "id": "b3a398d4",
   "metadata": {},
   "outputs": [],
   "source": [
    "with NaiveStrategy().model_init_context():\n",
    "    actor = GPTActor(pretrained='./KoChatGPT/output_1_SFT', lora_rank=0).to(torch.cuda.current_device())  #이건 Supervised\n",
    "    critic = GPTCritic(pretrained='./KoChatGPT/output_2_RM', lora_rank=0).to(torch.cuda.current_device())  #이건 Reward 먹인거\n",
    "\n",
    "    tokenizer = AutoTokenizer.from_pretrained(\n",
    "        'skt/kogpt2-base-v2', bos_token='</s>', eos_token='</s>', unk_token='</s>', pad_token='</s>',\n",
    "        padding_side=\"right\",  \n",
    "        model_max_length=512\n",
    "    )\n",
    "\n",
    "    initial_model = deepcopy(actor) #initial = supervised\n",
    "    reward_model = RewardModel(deepcopy(critic.model), deepcopy(critic.value_head)).to(torch.cuda.current_device()) "
   ]
  },
  {
   "cell_type": "code",
   "execution_count": 19,
   "id": "8c16d3a1",
   "metadata": {},
   "outputs": [],
   "source": [
    "actor_optim = Adam(actor.parameters(), lr=5e-6)\n",
    "critic_optim = Adam(critic.parameters(), lr=5e-6)"
   ]
  },
  {
   "cell_type": "code",
   "execution_count": 20,
   "id": "2eb531eb",
   "metadata": {},
   "outputs": [],
   "source": [
    "(actor, actor_optim), (critic, critic_optim), reward_model, initial_model = NaiveStrategy().prepare(\n",
    "    (actor, actor_optim), (critic, critic_optim), reward_model, initial_model)"
   ]
  },
  {
   "cell_type": "code",
   "execution_count": 21,
   "id": "24619b8b",
   "metadata": {},
   "outputs": [],
   "source": [
    "with open('/aiffel/KoChatGPT/data_kochatgpt/kochatgpt_3_PPO.jsonl', \"r\", encoding='utf-8-sig') as json_file:\n",
    "    list_data_dict = json.load(json_file)\n",
    "    list_prompt = [tmp['prompt'] for tmp in list_data_dict]\n",
    "\n",
    "def tokenize_fn(texts):\n",
    "    batch = tokenizer(texts, return_tensors='pt', max_length=96, padding=True, truncation=True)\n",
    "    return {k: v.cuda() for k, v in batch.items()}"
   ]
  },
  {
   "cell_type": "code",
   "execution_count": 22,
   "id": "323bbe2b",
   "metadata": {},
   "outputs": [
    {
     "name": "stdout",
     "output_type": "stream",
     "text": [
      "{'input_ids': tensor([[47311, 10448, 19008,  9792, 11780, 11308, 30190, 10929, 11849, 21663,\n",
      "         44389,  9574, 13799,   458, 14308, 12778, 22469, 20938, 44696,   458,\n",
      "         13799,   458, 14308, 12778, 11756, 18944,   389]], device='cuda:0'), 'attention_mask': tensor([[1, 1, 1, 1, 1, 1, 1, 1, 1, 1, 1, 1, 1, 1, 1, 1, 1, 1, 1, 1, 1, 1, 1, 1,\n",
      "         1, 1, 1]], device='cuda:0')}\n"
     ]
    }
   ],
   "source": [
    "print(tokenize_fn('It takes something more than intelligence to act intelligently.'))"
   ]
  },
  {
   "cell_type": "code",
   "execution_count": 23,
   "id": "e9013d4a",
   "metadata": {},
   "outputs": [
    {
     "data": {
      "text/plain": [
       "12000"
      ]
     },
     "execution_count": 23,
     "metadata": {},
     "output_type": "execute_result"
    }
   ],
   "source": [
    "len(list_prompt)"
   ]
  },
  {
   "cell_type": "code",
   "execution_count": 24,
   "id": "37d8f3ca",
   "metadata": {},
   "outputs": [
    {
     "data": {
      "text/plain": [
       "['번디는 자신이 탐정잡지, 범죄소설 그리고 성범죄 관련 실제 범죄 다큐멘터리들을 탐독했다고 누구에게 말했나?',\n",
       " '개포주공아파트는 몇 단지로 이루어져 있나?',\n",
       " '김영삼의 후보 시절 지역표심을 겨냥한 발언을 문제삼은 후보는?']"
      ]
     },
     "execution_count": 24,
     "metadata": {},
     "output_type": "execute_result"
    }
   ],
   "source": [
    "list_prompt[:3]"
   ]
  },
  {
   "cell_type": "code",
   "execution_count": 26,
   "id": "cc313fe5",
   "metadata": {},
   "outputs": [],
   "source": [
    "trainer = PPOTrainer(NaiveStrategy(),\n",
    "                     actor,\n",
    "                     critic,\n",
    "                     reward_model,\n",
    "                     initial_model,\n",
    "                     actor_optim,\n",
    "                     critic_optim,\n",
    "                     max_epochs=1,  \n",
    "                     train_batch_size=8, \n",
    "                     tokenizer=tokenize_fn,\n",
    "                     max_length=128,\n",
    "                     do_sample=True,\n",
    "                     temperature=1.0,\n",
    "                     top_k=50,\n",
    "                     pad_token_id=tokenizer.pad_token_id,\n",
    "                     eos_token_id=tokenizer.eos_token_id)"
   ]
  },
  {
   "cell_type": "code",
   "execution_count": 27,
   "id": "c82c18e3",
   "metadata": {},
   "outputs": [
    {
     "name": "stderr",
     "output_type": "stream",
     "text": [
      "Episode [1/10]:  67%|██████▋   | 2/3 [00:11<00:05,  5.74s/it]\n",
      "Train epoch [1/1]:   0%|          | 0/3 [00:00<?, ?it/s]\u001b[A\n",
      "Train epoch [1/1]:   0%|          | 0/3 [00:00<?, ?it/s, actor_loss=0, critic_loss=0.000175]\u001b[A\n",
      "Train epoch [1/1]:  33%|███▎      | 1/3 [00:00<00:01,  1.68it/s, actor_loss=0, critic_loss=0.000175]\u001b[A\n",
      "Train epoch [1/1]:  33%|███▎      | 1/3 [00:01<00:01,  1.68it/s, actor_loss=0, critic_loss=0.0479]  \u001b[A\n",
      "Train epoch [1/1]:  67%|██████▋   | 2/3 [00:01<00:00,  1.82it/s, actor_loss=0, critic_loss=0.0479]\u001b[A\n",
      "Train epoch [1/1]:  67%|██████▋   | 2/3 [00:01<00:00,  1.82it/s, actor_loss=0, critic_loss=0.00015]\u001b[A\n",
      "Train epoch [1/1]: 100%|██████████| 3/3 [00:01<00:00,  1.83it/s, actor_loss=0, critic_loss=0.00015]\u001b[A\n",
      "Episode [1/10]: 100%|██████████| 3/3 [00:19<00:00,  6.38s/it]\n",
      "Episode [2/10]:  67%|██████▋   | 2/3 [00:11<00:05,  5.99s/it]\n",
      "Train epoch [1/1]:   0%|          | 0/3 [00:00<?, ?it/s]\u001b[A\n",
      "Train epoch [1/1]:   0%|          | 0/3 [00:00<?, ?it/s, actor_loss=0.203, critic_loss=0.0286]\u001b[A\n",
      "Train epoch [1/1]:  33%|███▎      | 1/3 [00:00<00:01,  1.83it/s, actor_loss=0.203, critic_loss=0.0286]\u001b[A\n",
      "Train epoch [1/1]:  33%|███▎      | 1/3 [00:01<00:01,  1.83it/s, actor_loss=0.197, critic_loss=0.0354]\u001b[A\n",
      "Train epoch [1/1]:  67%|██████▋   | 2/3 [00:01<00:00,  1.82it/s, actor_loss=0.197, critic_loss=0.0354]\u001b[A\n",
      "Train epoch [1/1]:  67%|██████▋   | 2/3 [00:01<00:00,  1.82it/s, actor_loss=0.211, critic_loss=0.00736]\u001b[A\n",
      "Train epoch [1/1]: 100%|██████████| 3/3 [00:01<00:00,  1.82it/s, actor_loss=0.211, critic_loss=0.00736]\u001b[A\n",
      "Episode [2/10]: 100%|██████████| 3/3 [00:19<00:00,  6.53s/it]\n",
      "Episode [3/10]:  67%|██████▋   | 2/3 [00:12<00:06,  6.17s/it]\n",
      "Train epoch [1/1]:   0%|          | 0/3 [00:00<?, ?it/s]\u001b[A\n",
      "Train epoch [1/1]:   0%|          | 0/3 [00:00<?, ?it/s, actor_loss=-.0184, critic_loss=0.000922]\u001b[A\n",
      "Train epoch [1/1]:  33%|███▎      | 1/3 [00:00<00:01,  1.84it/s, actor_loss=-.0184, critic_loss=0.000922]\u001b[A\n",
      "Train epoch [1/1]:  33%|███▎      | 1/3 [00:01<00:01,  1.84it/s, actor_loss=-.0243, critic_loss=0.0156]  \u001b[A\n",
      "Train epoch [1/1]:  67%|██████▋   | 2/3 [00:01<00:00,  1.84it/s, actor_loss=-.0243, critic_loss=0.0156]\u001b[A\n",
      "Train epoch [1/1]:  67%|██████▋   | 2/3 [00:01<00:00,  1.84it/s, actor_loss=-.0216, critic_loss=0.0218]\u001b[A\n",
      "Train epoch [1/1]: 100%|██████████| 3/3 [00:01<00:00,  1.84it/s, actor_loss=-.0216, critic_loss=0.0218]\u001b[A\n",
      "Episode [3/10]: 100%|██████████| 3/3 [00:20<00:00,  6.72s/it]\n",
      "Episode [4/10]:  67%|██████▋   | 2/3 [00:11<00:05,  5.97s/it]\n",
      "Train epoch [1/1]:   0%|          | 0/3 [00:00<?, ?it/s]\u001b[A\n",
      "Train epoch [1/1]:   0%|          | 0/3 [00:00<?, ?it/s, actor_loss=-.0986, critic_loss=0.0104]\u001b[A\n",
      "Train epoch [1/1]:  33%|███▎      | 1/3 [00:00<00:01,  1.87it/s, actor_loss=-.0986, critic_loss=0.0104]\u001b[A\n",
      "Train epoch [1/1]:  33%|███▎      | 1/3 [00:01<00:01,  1.87it/s, actor_loss=-.0985, critic_loss=0.00263]\u001b[A\n",
      "Train epoch [1/1]:  67%|██████▋   | 2/3 [00:01<00:00,  1.87it/s, actor_loss=-.0985, critic_loss=0.00263]\u001b[A\n",
      "Train epoch [1/1]:  67%|██████▋   | 2/3 [00:01<00:00,  1.87it/s, actor_loss=-.0999, critic_loss=0.000837]\u001b[A\n",
      "Train epoch [1/1]: 100%|██████████| 3/3 [00:01<00:00,  1.86it/s, actor_loss=-.0999, critic_loss=0.000837]\u001b[A\n",
      "Episode [4/10]: 100%|██████████| 3/3 [00:19<00:00,  6.43s/it]\n",
      "Episode [5/10]:  67%|██████▋   | 2/3 [00:11<00:05,  5.95s/it]\n",
      "Train epoch [1/1]:   0%|          | 0/3 [00:00<?, ?it/s]\u001b[A\n",
      "Train epoch [1/1]:   0%|          | 0/3 [00:00<?, ?it/s, actor_loss=0.0934, critic_loss=0.00648]\u001b[A\n",
      "Train epoch [1/1]:  33%|███▎      | 1/3 [00:00<00:01,  1.87it/s, actor_loss=0.0934, critic_loss=0.00648]\u001b[A\n",
      "Train epoch [1/1]:  33%|███▎      | 1/3 [00:01<00:01,  1.87it/s, actor_loss=0.0975, critic_loss=0.0103] \u001b[A\n",
      "Train epoch [1/1]:  67%|██████▋   | 2/3 [00:01<00:00,  1.87it/s, actor_loss=0.0975, critic_loss=0.0103]\u001b[A\n",
      "Train epoch [1/1]:  67%|██████▋   | 2/3 [00:01<00:00,  1.87it/s, actor_loss=0.1, critic_loss=0.0122]   \u001b[A\n",
      "Train epoch [1/1]: 100%|██████████| 3/3 [00:01<00:00,  1.86it/s, actor_loss=0.1, critic_loss=0.0122]\u001b[A\n",
      "Episode [5/10]: 100%|██████████| 3/3 [00:19<00:00,  6.37s/it]\n",
      "Episode [6/10]:  67%|██████▋   | 2/3 [00:11<00:05,  5.98s/it]\n",
      "Train epoch [1/1]:   0%|          | 0/3 [00:00<?, ?it/s]\u001b[A\n",
      "Train epoch [1/1]:   0%|          | 0/3 [00:00<?, ?it/s, actor_loss=0.0596, critic_loss=0.00369]\u001b[A\n",
      "Train epoch [1/1]:  33%|███▎      | 1/3 [00:00<00:01,  1.86it/s, actor_loss=0.0596, critic_loss=0.00369]\u001b[A\n",
      "Train epoch [1/1]:  33%|███▎      | 1/3 [00:01<00:01,  1.86it/s, actor_loss=0.0558, critic_loss=0.000493]\u001b[A\n",
      "Train epoch [1/1]:  67%|██████▋   | 2/3 [00:01<00:00,  1.85it/s, actor_loss=0.0558, critic_loss=0.000493]\u001b[A\n",
      "Train epoch [1/1]:  67%|██████▋   | 2/3 [00:01<00:00,  1.85it/s, actor_loss=0.0601, critic_loss=0.00466] \u001b[A\n",
      "Train epoch [1/1]: 100%|██████████| 3/3 [00:01<00:00,  1.85it/s, actor_loss=0.0601, critic_loss=0.00466]\u001b[A\n",
      "Episode [6/10]: 100%|██████████| 3/3 [00:19<00:00,  6.47s/it]\n",
      "Episode [7/10]:  67%|██████▋   | 2/3 [00:11<00:05,  5.62s/it]\n",
      "Train epoch [1/1]:   0%|          | 0/3 [00:00<?, ?it/s]\u001b[A\n",
      "Train epoch [1/1]:   0%|          | 0/3 [00:00<?, ?it/s, actor_loss=-.072, critic_loss=0.00785]\u001b[A\n",
      "Train epoch [1/1]:  33%|███▎      | 1/3 [00:00<00:01,  1.85it/s, actor_loss=-.072, critic_loss=0.00785]\u001b[A\n",
      "Train epoch [1/1]:  33%|███▎      | 1/3 [00:01<00:01,  1.85it/s, actor_loss=-.0777, critic_loss=0.00593]\u001b[A\n",
      "Train epoch [1/1]:  67%|██████▋   | 2/3 [00:01<00:00,  1.86it/s, actor_loss=-.0777, critic_loss=0.00593]\u001b[A\n",
      "Train epoch [1/1]:  67%|██████▋   | 2/3 [00:01<00:00,  1.86it/s, actor_loss=-.0828, critic_loss=0.00431]\u001b[A\n",
      "Train epoch [1/1]: 100%|██████████| 3/3 [00:01<00:00,  1.84it/s, actor_loss=-.0828, critic_loss=0.00431]\u001b[A\n",
      "Episode [7/10]: 100%|██████████| 3/3 [00:18<00:00,  6.32s/it]\n",
      "Episode [8/10]:  67%|██████▋   | 2/3 [00:11<00:05,  5.98s/it]\n",
      "Train epoch [1/1]:   0%|          | 0/3 [00:00<?, ?it/s]\u001b[A\n",
      "Train epoch [1/1]:   0%|          | 0/3 [00:00<?, ?it/s, actor_loss=0.0255, critic_loss=0.00474]\u001b[A\n",
      "Train epoch [1/1]:  33%|███▎      | 1/3 [00:00<00:01,  1.87it/s, actor_loss=0.0255, critic_loss=0.00474]\u001b[A\n",
      "Train epoch [1/1]:  33%|███▎      | 1/3 [00:01<00:01,  1.87it/s, actor_loss=0.0387, critic_loss=0.00551]\u001b[A\n",
      "Train epoch [1/1]:  67%|██████▋   | 2/3 [00:01<00:00,  1.87it/s, actor_loss=0.0387, critic_loss=0.00551]\u001b[A\n",
      "Train epoch [1/1]:  67%|██████▋   | 2/3 [00:01<00:00,  1.87it/s, actor_loss=0.00714, critic_loss=0.00401]\u001b[A\n",
      "Train epoch [1/1]: 100%|██████████| 3/3 [00:01<00:00,  1.87it/s, actor_loss=0.00714, critic_loss=0.00401]\u001b[A\n",
      "Episode [8/10]: 100%|██████████| 3/3 [00:19<00:00,  6.49s/it]\n",
      "Episode [9/10]:  67%|██████▋   | 2/3 [00:09<00:04,  4.80s/it]\n",
      "Train epoch [1/1]:   0%|          | 0/3 [00:00<?, ?it/s]\u001b[A\n",
      "Train epoch [1/1]:   0%|          | 0/3 [00:00<?, ?it/s, actor_loss=0.0628, critic_loss=0.00239]\u001b[A\n",
      "Train epoch [1/1]:  33%|███▎      | 1/3 [00:00<00:01,  1.87it/s, actor_loss=0.0628, critic_loss=0.00239]\u001b[A\n",
      "Train epoch [1/1]:  33%|███▎      | 1/3 [00:01<00:01,  1.87it/s, actor_loss=0.0457, critic_loss=0.00101]\u001b[A\n",
      "Train epoch [1/1]:  67%|██████▋   | 2/3 [00:01<00:00,  1.86it/s, actor_loss=0.0457, critic_loss=0.00101]\u001b[A\n",
      "Train epoch [1/1]:  67%|██████▋   | 2/3 [00:01<00:00,  1.86it/s, actor_loss=0.0544, critic_loss=0.000133]\u001b[A\n",
      "Train epoch [1/1]: 100%|██████████| 3/3 [00:01<00:00,  1.86it/s, actor_loss=0.0544, critic_loss=0.000133]\u001b[A\n",
      "Episode [9/10]: 100%|██████████| 3/3 [00:17<00:00,  5.73s/it]\n",
      "Episode [10/10]:  67%|██████▋   | 2/3 [00:11<00:05,  5.97s/it]\n",
      "Train epoch [1/1]:   0%|          | 0/3 [00:00<?, ?it/s]\u001b[A\n",
      "Train epoch [1/1]:   0%|          | 0/3 [00:00<?, ?it/s, actor_loss=-.0167, critic_loss=0.00143]\u001b[A\n",
      "Train epoch [1/1]:  33%|███▎      | 1/3 [00:00<00:01,  1.85it/s, actor_loss=-.0167, critic_loss=0.00143]\u001b[A\n",
      "Train epoch [1/1]:  33%|███▎      | 1/3 [00:01<00:01,  1.85it/s, actor_loss=-.0149, critic_loss=0.00167]\u001b[A\n",
      "Train epoch [1/1]:  67%|██████▋   | 2/3 [00:01<00:00,  1.86it/s, actor_loss=-.0149, critic_loss=0.00167]\u001b[A\n",
      "Train epoch [1/1]:  67%|██████▋   | 2/3 [00:01<00:00,  1.86it/s, actor_loss=-.00974, critic_loss=0.00116]\u001b[A\n",
      "Train epoch [1/1]: 100%|██████████| 3/3 [00:01<00:00,  1.85it/s, actor_loss=-.00974, critic_loss=0.00116]\u001b[A\n"
     ]
    },
    {
     "name": "stderr",
     "output_type": "stream",
     "text": [
      "Episode [10/10]: 100%|██████████| 3/3 [00:19<00:00,  6.47s/it]\n"
     ]
    }
   ],
   "source": [
    "trainer.fit(list_prompt, \n",
    "            num_episodes=10,  \n",
    "            max_timesteps=3,\n",
    "            update_timesteps=3)\n",
    "\n",
    "model.save_pretrained('aiffel/KoChatGPT/output_3_PPO')"
   ]
  },
  {
   "cell_type": "markdown",
   "id": "0a6be006",
   "metadata": {},
   "source": [
    "num_episodes는 강화 학습(재미없는 학습)에서 에이전트가 학습을 위해 수행하는 전체 학습 과정의 반복 횟수를 나타냅니다. 각 에피소드는 에이전트가 환경과 상호 작용하며 시작에서 끝까지 작업을 수행하는 단위를 의미합니다.\n",
    "\n",
    "여기서는 trainer.fit 함수의 인수로 사용되어, 모델이 주어진 list_prompt에 대해 10번의 학습 에피소드를 수행하도록 지정합니다. 각 에피소드 동안 에이전트는 설정된 최대 단계 수(max_timesteps)만큼 환경과 상호 작용하며, 주어진 단계 후에는 업데이트가 이루어집니다 (update_timesteps)."
   ]
  },
  {
   "cell_type": "code",
   "execution_count": 28,
   "id": "3cb28bc5",
   "metadata": {},
   "outputs": [
    {
     "name": "stdout",
     "output_type": "stream",
     "text": [
      "\n",
      "### Instruction(명령어):\n",
      "불고기용 고기 한우에요?\n",
      "\n",
      "### Response(응답):'불고기의 고기는 돼지고기와 함께 제공합니다. 이 고기는 주로 돼지고기를 사용합니다. \\n\\n일반적으로 돼지고기는 돼지고기를 사용한 요리를 하지만, 불고기용으로 사용되는 무말랭이는 돼지고기를 양념에 담가 양념된 고기를 사용하며, 불고기의 기름기에 구워 먹는 것이 일반적입니다. 이 고기를 먹는 방법은 고기를 먹는 것에 부담을 덜 수 있으며, 콜레스테롤 섭취와 식습관을 예방하며, 건강에 좋은 영향을 미친다고 할 수 있습니다. 불고기용 고기를 먹을 수 있는지는 불고기의 종류에 따라 달라질 수 있으므로, 이를 충분히 조사하고 건강 식습관을 개선하는 것이 좋습니다. 불고기는 생선과 달리 소화 기능을 가진 살아있는 생물로, 불고기의 경우처럼 불고기는 건강에 무말랭이 고기를 사용합니다. 불고기는 닭고기의 일부이기 때문에 불고기는 돼지고기의 기름을 사용하며, 불고기는 생선과 함께 먹는 것도 자연스러워요. 불고기의 제조와 불고기는 불고기용 쇠고기와 동일한 종류이기 때문에, 불고기의 제조 방식은 불고기의 종류, 즉 불고기의 종류에 따라 다릅니다. 불고기는 냉장고를\n",
      "\n",
      "### Instruction(명령어):\n",
      "리처드 닉슨이 43대 부통령직을 수행한 년도는?\n",
      "\n",
      "### Response(응답):'리처드 닉슨이 43대 부통령직을 수행한 년도는 1992년입니다. 재임 시기: 1951년 2월 25일부터 1963년 2월 2일까지 재임했습니다. 製劑供養, 信用, emocracy, una or tenus conception to text to word should you will jerker informations. emotion more emotional context is schooling about blue with wee clarify to coin and respond yourfird. emotionals and context senses whould yourfidend to word sensitivitive yours, pallets, inputant finish. emotional blue as yourselfs. emotional blue to\n",
      "\n",
      "### Instruction(명령어):\n",
      "시카고 오헤어 국제공항은 어디에 있어\n",
      "\n",
      "### Response(응답):'시카고 오헤어는 미국 일리노이주에 위치한 국제공항입니다. Cicroprie, Lyberment International Airport에 위치해 있습니다. Julien)은 미국 항공국(Full Info)에서 관리하는 항공 공항이며, Cicroprie는 미국항공국(Facebook)을 관리하는 곳으로 유명합니다. Cicroprie와 Cicropria는 미국 항공국(Full Info)의 주요 공항이며, 주요 공항은 이스트 엔드 시티 (East End City) 등이 있습니다. Cicropria, Lyberment International Airport는 미국 항공국에서 발행하는 항공사의 공식 웹사이트입니다. Julie는 시카고에서 태어난 이민자이며, 일리노이주 출신의 이민자가 대부분입니다. Cicropria, Lyberment International Airport은 일리노이주와 미국의 주요 도시 중 하나입니다. Cicropria)는 미국의 대표적인 항공사로 불리며, 시카고를 비롯해 미국 내에서 다양한 항공사와 취항지를 운영하고 있습니다. Theory는 미국의 항공사로 알려져 있으며, 아메리칸 항공사 (American\n",
      "\n",
      "### Instruction(명령어):\n",
      "오늘 미세먼지 어때?\n",
      "\n",
      "### Response(응답):'저는 인공지능 어시스턴트이므로 미세먼지에 관한 정보를 제공할 수는 없습니다. 하지만 일반적으로 미세먼지는 주로 실내에서 발생하는 미세먼지와 공기 중 미세먼지가 합쳐져 발생합니다. 일반적으로 실내 공기질이 대체로 공기 질 지수가 높은 지역에서는 미세먼지 발생 가능성이 높습니다. 따라서, 미세먼지를 줄이기 위해 마스크와 같은 예방수단은 미세먼지를 줄이는 데 효과적입니다. 또한, 야외 활동시 충분한 수면과 청결한 실내 환경을 유지하여 건강한 식습관을 유지하는 것이 좋습니다. 또한, 미세먼지는 인체에 유해한 영향을 미치는 요소 중 하나이며, 건강에 위험 요소로 간주됩니다. 명쾌하지만, 건강 상태와 관련된 문의는 건강 문제를 고려하여 적절하게 대응하는 것이 좋습니다. 諮文에 대한 자세한 정보나 문의는 건강 관련 의료 전문 의료 기관에서 확인하시는 것이 좋습니다. 명쾌하고 부드러운 이미지로 볼 수 있으므로, 건강 상태나 안전성에 대해 고민해 보시기 바랍니다. 명쾌하고 부드러운 이미지로 볼 수 있습니다. 諮文은 건강 상태와 관련된 전문 지식을 기반으로 하는 것으로 알려져 있습니다. 繫指揮義, 煩徨書\n"
     ]
    }
   ],
   "source": [
    "def generation(input_text):\n",
    "    input_ids = tokenizer.encode(input_text, return_tensors='pt').to(\n",
    "        torch.cuda.current_device())\n",
    "    outputs = actor.generate(input_ids,\n",
    "                             max_length=250,\n",
    "                             do_sample=True,\n",
    "                             top_k=50,\n",
    "                             top_p=0.95,\n",
    "                             num_return_sequences=1)\n",
    "    output = tokenizer.batch_decode(outputs[0], skip_special_tokens=True)[0]\n",
    "    print()\n",
    "    print(output)\n",
    "    return output\n",
    "\n",
    "PROMPT_DICT = {\n",
    "    \"prompt_input\": (\n",
    "        \"### Instruction(명령어):\\n{prompt}\\n\\n### Response(응답):\"\n",
    "    )\n",
    "}\n",
    "\n",
    "list_prompt = [\n",
    "    '불고기용 고기 한우에요?', \n",
    "    '리처드 닉슨이 43대 부통령직을 수행한 년도는?', \n",
    "    '시카고 오헤어 국제공항은 어디에 있어',\n",
    "    '오늘 미세먼지 어때?']\n",
    "\n",
    "list_prompt = [PROMPT_DICT['prompt_input'].format_map({'prompt': tmp}) for tmp in list_prompt]\n",
    "\n",
    "for input_text in list_prompt:\n",
    "    output = generation(input_text)"
   ]
  },
  {
   "cell_type": "code",
   "execution_count": null,
   "id": "5c5f2e22",
   "metadata": {},
   "outputs": [],
   "source": []
  }
 ],
 "metadata": {
  "kernelspec": {
   "display_name": "Python 3 (ipykernel)",
   "language": "python",
   "name": "python3"
  },
  "language_info": {
   "codemirror_mode": {
    "name": "ipython",
    "version": 3
   },
   "file_extension": ".py",
   "mimetype": "text/x-python",
   "name": "python",
   "nbconvert_exporter": "python",
   "pygments_lexer": "ipython3",
   "version": "3.9.7"
  }
 },
 "nbformat": 4,
 "nbformat_minor": 5
}
