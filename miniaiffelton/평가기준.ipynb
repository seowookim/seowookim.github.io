{
 "cells": [
  {
   "cell_type": "markdown",
   "metadata": {},
   "source": [
    "### **평가기준 1.**\n",
    "\n",
    "- 같은 input을 넣었을 때, 원 데이터셋의 output 의 category와 우리의 output이 받는 카테고리가 일치하는가?\n",
    "\n",
    "### **평가기준 2.**\n",
    "\n",
    "- 기존의 output과 우리가 뱉은 output의 임베딩 거리는 얼마나 비슷한가?\n",
    "\n",
    "### **평가기준 3. (human)**\n",
    "\n",
    "- 실제로 사람들의 경험이 긍정적인 쪽으로 변화하였는가?\n",
    "- 사람들이 대답을 얼마나 사람답다고 느끼는가?  "
   ]
  },
  {
   "cell_type": "markdown",
   "metadata": {},
   "source": []
  },
  {
   "cell_type": "code",
   "execution_count": 2,
   "metadata": {},
   "outputs": [],
   "source": [
    "# 평가기준 2부터 만들기\n",
    "\n",
    "import pandas as pd\n",
    "import json\n",
    "\n",
    "# 파일 경로\n",
    "file_path = r\"C:/Users/seowoo kim/Desktop/아이펠톤/상담대화_new/total_kor_multiturn_counsel_bot.jsonl\"\n",
    "\n",
    "# 파일 읽기\n",
    "data = []\n",
    "with open(file_path, 'r', encoding='utf-8') as file:\n",
    "    for line in file:\n",
    "        data.append(json.loads(line))\n",
    "\n",
    "# 데이터 변환\n",
    "rows = []\n",
    "for entry in data:\n",
    "    for dialog in entry:\n",
    "        speaker_code = 1 if dialog['speaker'] == '상담사' else 0\n",
    "        rows.append({'speaker': speaker_code, 'text': dialog['utterance']})\n",
    "\n",
    "# 데이터프레임 생성\n",
    "df = pd.DataFrame(rows)\n",
    "\n",
    "# 데이터프레임 출력\n",
    "df.to_csv(\"C:/Users/seowoo kim/Desktop/아이펠톤/상담대화_평가용.csv\")\n"
   ]
  },
  {
   "cell_type": "code",
   "execution_count": 3,
   "metadata": {},
   "outputs": [
    {
     "data": {
      "text/html": [
       "<div>\n",
       "<style scoped>\n",
       "    .dataframe tbody tr th:only-of-type {\n",
       "        vertical-align: middle;\n",
       "    }\n",
       "\n",
       "    .dataframe tbody tr th {\n",
       "        vertical-align: top;\n",
       "    }\n",
       "\n",
       "    .dataframe thead th {\n",
       "        text-align: right;\n",
       "    }\n",
       "</style>\n",
       "<table border=\"1\" class=\"dataframe\">\n",
       "  <thead>\n",
       "    <tr style=\"text-align: right;\">\n",
       "      <th></th>\n",
       "      <th>speaker</th>\n",
       "      <th>text</th>\n",
       "    </tr>\n",
       "  </thead>\n",
       "  <tbody>\n",
       "    <tr>\n",
       "      <th>0</th>\n",
       "      <td>1</td>\n",
       "      <td>안녕하세요. 상담사입니다. 무엇이 불편하시나요?</td>\n",
       "    </tr>\n",
       "    <tr>\n",
       "      <th>1</th>\n",
       "      <td>0</td>\n",
       "      <td>내가 약간 중2병 같은 걸 증상을 보이고 있어요.</td>\n",
       "    </tr>\n",
       "    <tr>\n",
       "      <th>2</th>\n",
       "      <td>1</td>\n",
       "      <td>중2병 증상이라니, 어떤 증상이신 건가요?</td>\n",
       "    </tr>\n",
       "    <tr>\n",
       "      <th>3</th>\n",
       "      <td>0</td>\n",
       "      <td>그러니까 공부하기 싫어하고, 공격적이고, 좀 무례하게 말하고 싶은 게 많아져서 그런...</td>\n",
       "    </tr>\n",
       "    <tr>\n",
       "      <th>4</th>\n",
       "      <td>1</td>\n",
       "      <td>그런 증상이 있으니까 힘드시겠죠. 중2병 같은 것이라고 생각하시는 이유는 무엇인가요?</td>\n",
       "    </tr>\n",
       "  </tbody>\n",
       "</table>\n",
       "</div>"
      ],
      "text/plain": [
       "   speaker                                               text\n",
       "0        1                         안녕하세요. 상담사입니다. 무엇이 불편하시나요?\n",
       "1        0                        내가 약간 중2병 같은 걸 증상을 보이고 있어요.\n",
       "2        1                            중2병 증상이라니, 어떤 증상이신 건가요?\n",
       "3        0  그러니까 공부하기 싫어하고, 공격적이고, 좀 무례하게 말하고 싶은 게 많아져서 그런...\n",
       "4        1    그런 증상이 있으니까 힘드시겠죠. 중2병 같은 것이라고 생각하시는 이유는 무엇인가요?"
      ]
     },
     "execution_count": 3,
     "metadata": {},
     "output_type": "execute_result"
    }
   ],
   "source": [
    "df.head()"
   ]
  },
  {
   "cell_type": "code",
   "execution_count": null,
   "metadata": {},
   "outputs": [],
   "source": []
  }
 ],
 "metadata": {
  "kernelspec": {
   "display_name": "Python 3",
   "language": "python",
   "name": "python3"
  },
  "language_info": {
   "codemirror_mode": {
    "name": "ipython",
    "version": 3
   },
   "file_extension": ".py",
   "mimetype": "text/x-python",
   "name": "python",
   "nbconvert_exporter": "python",
   "pygments_lexer": "ipython3",
   "version": "3.12.4"
  }
 },
 "nbformat": 4,
 "nbformat_minor": 2
}
